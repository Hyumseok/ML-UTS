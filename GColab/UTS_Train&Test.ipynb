{
  "nbformat": 4,
  "nbformat_minor": 0,
  "metadata": {
    "colab": {
      "provenance": []
    },
    "kernelspec": {
      "name": "python3",
      "display_name": "Python 3"
    },
    "language_info": {
      "name": "python"
    }
  },
  "cells": [
    {
      "cell_type": "markdown",
      "source": [
        "**Sam Alim Ramadhan**\n",
        "\n",
        "**1103210236**\n",
        "\n",
        "**UTS**\n",
        "\n",
        "**Train**"
      ],
      "metadata": {
        "id": "OOYT2LJPs7w6"
      }
    },
    {
      "cell_type": "code",
      "execution_count": null,
      "metadata": {
        "id": "lFRXbwgss6DA"
      },
      "outputs": [],
      "source": [
        "import numpy as np\n",
        "import pandas as pd\n",
        "import plotly.express as px\n",
        "import plotly.graph_objects as go\n",
        "import matplotlib.pyplot as plt\n",
        "import seaborn as sns\n",
        "from sklearn.preprocessing import OrdinalEncoder, LabelEncoder\n",
        "from sklearn.feature_selection import mutual_info_classif\n",
        "from sklearn.model_selection import train_test_split\n",
        "from sklearn.ensemble import RandomForestClassifier, RandomForestRegressor\n",
        "from sklearn.metrics import classification_report, confusion_matrix, accuracy_score, mean_squared_error\n",
        "from imblearn.over_sampling import SMOTE\n",
        "from xgboost import XGBRegressor\n",
        "from google.colab import drive\n",
        "from xgboost import XGBClassifier\n",
        "import warnings\n",
        "\n",
        "warnings.filterwarnings(\"ignore\", category=FutureWarning)"
      ]
    },
    {
      "cell_type": "markdown",
      "source": [
        "# **TRAIN**"
      ],
      "metadata": {
        "id": "cgDNMBcrla1d"
      }
    },
    {
      "cell_type": "markdown",
      "source": [
        "Shell berikut merupakan metode mounting untuk menghubungkan program ke GDrive dan mengambil file berdasarkan path nya."
      ],
      "metadata": {
        "id": "7BpLcgalHSA7"
      }
    },
    {
      "cell_type": "code",
      "source": [
        "drive.mount('/content/drive')\n",
        "url = \"/content/drive/MyDrive/Machine Learning/UTS/Dataset/train.csv\"\n",
        "data = pd.read_csv(url)"
      ],
      "metadata": {
        "colab": {
          "base_uri": "https://localhost:8080/"
        },
        "id": "2U7hz59jvQka",
        "outputId": "8b432906-9e55-42ee-f6d3-a4b2b9da58b9"
      },
      "execution_count": null,
      "outputs": [
        {
          "output_type": "stream",
          "name": "stdout",
          "text": [
            "Drive already mounted at /content/drive; to attempt to forcibly remount, call drive.mount(\"/content/drive\", force_remount=True).\n"
          ]
        },
        {
          "output_type": "stream",
          "name": "stderr",
          "text": [
            "<ipython-input-2-91c2128fd521>:3: DtypeWarning: Columns (26) have mixed types. Specify dtype option on import or set low_memory=False.\n",
            "  data = pd.read_csv(url)\n"
          ]
        }
      ]
    },
    {
      "cell_type": "markdown",
      "source": [
        "# Data Format"
      ],
      "metadata": {
        "id": "MSqxh0K8AHbM"
      }
    },
    {
      "cell_type": "markdown",
      "source": [
        "Shell-shell berikut merupakan proses data formatting untuk mengubah tipe data fitur-fitur seperti Age, Num_of_Loan, Num_of_Delayed_Payment, Annual_Income dan seterusnya (seperti yang tertera di setiap shell nya) menjadi numerik. Selain mengubah tipe data, data format tersebut juga berfungsi untuk menghilangkan karakter-karakter di dalam data seperti '-', '_', dan sebagainya."
      ],
      "metadata": {
        "id": "EGGeESn0HpBK"
      }
    },
    {
      "cell_type": "code",
      "source": [
        "data['Age'] = data['Age'].fillna('0').str.extract('(\\d+)').astype(float).astype(int)\n",
        "data['Num_of_Loan'] = data['Num_of_Loan'].fillna('0').str.extract('(\\d+)').astype(float).astype(int)\n",
        "data['Num_of_Delayed_Payment'] = data['Num_of_Delayed_Payment'].fillna('0').str.extract('(\\d+)').astype(float).astype(int)"
      ],
      "metadata": {
        "id": "x1FQMqxl0bwz"
      },
      "execution_count": null,
      "outputs": []
    },
    {
      "cell_type": "code",
      "source": [
        "data['Annual_Income'] = data['Annual_Income'].str.replace(r'[^0-9.]', '', regex=True)\n",
        "data['Annual_Income'] = data['Annual_Income'].astype(float)"
      ],
      "metadata": {
        "id": "nzBkBuh80pk1"
      },
      "execution_count": null,
      "outputs": []
    },
    {
      "cell_type": "code",
      "source": [
        "data['Changed_Credit_Limit'] = data['Changed_Credit_Limit'].replace('_', np.nan)\n",
        "data['Changed_Credit_Limit'] = pd.to_numeric(data['Changed_Credit_Limit'], errors='coerce')\n",
        "data['Changed_Credit_Limit'] = data['Changed_Credit_Limit'].fillna(0)"
      ],
      "metadata": {
        "id": "-0kl4aDm0ueV"
      },
      "execution_count": null,
      "outputs": []
    },
    {
      "cell_type": "code",
      "source": [
        "data['Outstanding_Debt'] = data['Outstanding_Debt'].astype(str)\n",
        "data['Outstanding_Debt'] = data['Outstanding_Debt'].str.replace(r'[^0-9.]', '', regex=True)\n",
        "data['Outstanding_Debt'] = pd.to_numeric(data['Outstanding_Debt'], errors='coerce')\n",
        "data['Outstanding_Debt'] = data['Outstanding_Debt'].fillna(0)"
      ],
      "metadata": {
        "id": "GGdHiMji0vSM"
      },
      "execution_count": null,
      "outputs": []
    },
    {
      "cell_type": "code",
      "source": [
        "data['Amount_invested_monthly'] = data['Amount_invested_monthly'].astype(str)\n",
        "data['Amount_invested_monthly'] = data['Amount_invested_monthly'].replace('', '0')\n",
        "data['Amount_invested_monthly'] = data['Amount_invested_monthly'].str.replace(r'[^0-9.]', '')\n",
        "data['Amount_invested_monthly'] = pd.to_numeric(data['Amount_invested_monthly'], errors='coerce')\n",
        "data['Amount_invested_monthly'] = data['Amount_invested_monthly'].fillna(0)\n"
      ],
      "metadata": {
        "id": "dIWV3qUk039V"
      },
      "execution_count": null,
      "outputs": []
    },
    {
      "cell_type": "code",
      "source": [
        "data['Monthly_Balance'] = data['Monthly_Balance'].astype(str)\n",
        "data['Monthly_Balance'] = data['Monthly_Balance'].str.replace(r'[^0-9.-]+', '')\n",
        "data['Monthly_Balance'] = pd.to_numeric(data['Monthly_Balance'], errors='coerce')\n",
        "data['Monthly_Balance'] = data['Monthly_Balance'].fillna(0)"
      ],
      "metadata": {
        "id": "_hywrr9v07yo"
      },
      "execution_count": null,
      "outputs": []
    },
    {
      "cell_type": "markdown",
      "source": [
        "Shell berikut merupakan metode untuk mengonversi Age yang awalnya berbentuk string menjadi numerik berdasarkan jumlah bulan pada umur tersebut."
      ],
      "metadata": {
        "id": "GTUbX7j9JLIe"
      }
    },
    {
      "cell_type": "code",
      "source": [
        "def parse_years_and_months(age):\n",
        "    if isinstance(age, str):\n",
        "        age_parts = age.split(' Years and ')\n",
        "        years = int(age_parts[0]) if 'Years' in age else 0\n",
        "        months_str = age_parts[1].split(' Months')[0] if 'Months' in age_parts[1] else '0'\n",
        "        months = int(months_str)\n",
        "        total_months = years * 12 + months\n",
        "        return total_months\n",
        "    else:\n",
        "        return 0\n",
        "\n",
        "data['Credit_History_Age_Months'] = data['Credit_History_Age'].apply(parse_years_and_months)\n",
        "\n"
      ],
      "metadata": {
        "id": "0UUpI9SU1ANg"
      },
      "execution_count": null,
      "outputs": []
    },
    {
      "cell_type": "markdown",
      "source": [
        "# Duplicates"
      ],
      "metadata": {
        "id": "HwpVig-j1E9X"
      }
    },
    {
      "cell_type": "markdown",
      "source": [
        "Shell berikut berfungsi untuk memeriksa apakah ada data yang di duplikasi pada dataset yang terkait. Jika ada, maka program akan memberitahu ada berapa data yang terduplikasi."
      ],
      "metadata": {
        "id": "3q0vX4wwKTbD"
      }
    },
    {
      "cell_type": "code",
      "source": [
        "duplicates = data[data.duplicated()]\n",
        "num_duplicates = duplicates.shape[0]\n",
        "\n",
        "if num_duplicates == 0:\n",
        "    print(\"There are no duplicates\")\n",
        "else:\n",
        "    print(\"There are\", num_duplicates, \"duplicates.\")"
      ],
      "metadata": {
        "colab": {
          "base_uri": "https://localhost:8080/"
        },
        "id": "vnSYMwT91Eh5",
        "outputId": "92bd75e2-8fd3-419e-99ab-2467874ad535"
      },
      "execution_count": null,
      "outputs": [
        {
          "output_type": "stream",
          "name": "stdout",
          "text": [
            "There are no duplicates\n"
          ]
        }
      ]
    },
    {
      "cell_type": "markdown",
      "source": [
        "# Data Scaling"
      ],
      "metadata": {
        "id": "WiaT--e_1QXP"
      }
    },
    {
      "cell_type": "code",
      "source": [
        "data.describe().T"
      ],
      "metadata": {
        "colab": {
          "base_uri": "https://localhost:8080/",
          "height": 602
        },
        "id": "x_SbzXyj1P92",
        "outputId": "6bc3d364-816e-4730-8b45-1ebd8de1a7b1"
      },
      "execution_count": null,
      "outputs": [
        {
          "output_type": "execute_result",
          "data": {
            "text/plain": [
              "                              count           mean           std          min  \\\n",
              "Age                        100000.0     119.509700  6.847573e+02    14.000000   \n",
              "Annual_Income              100000.0  176415.701298  1.429618e+06  7005.930000   \n",
              "Monthly_Inhand_Salary       84998.0    4194.170850  3.183686e+03   303.645417   \n",
              "Num_Bank_Accounts          100000.0      17.091280  1.174048e+02    -1.000000   \n",
              "Num_Credit_Card            100000.0      22.474430  1.290574e+02     0.000000   \n",
              "Interest_Rate              100000.0      72.466040  4.664226e+02     1.000000   \n",
              "Num_of_Loan                100000.0      10.761960  6.178993e+01     0.000000   \n",
              "Delay_from_due_date        100000.0      21.068780  1.486010e+01    -5.000000   \n",
              "Num_of_Delayed_Payment     100000.0      28.779410  2.181148e+02     0.000000   \n",
              "Changed_Credit_Limit       100000.0      10.171791  6.880628e+00    -6.490000   \n",
              "Num_Credit_Inquiries        98035.0      27.754251  1.931773e+02     0.000000   \n",
              "Outstanding_Debt           100000.0    1426.220376  1.155129e+03     0.230000   \n",
              "Credit_Utilization_Ratio   100000.0      32.285173  5.116875e+00    20.000000   \n",
              "Total_EMI_per_month        100000.0    1403.118217  8.306041e+03     0.000000   \n",
              "Amount_invested_monthly    100000.0     178.363270  1.984724e+02     0.000000   \n",
              "Monthly_Balance            100000.0     397.684413  2.171320e+02     0.000000   \n",
              "Credit_History_Age_Months  100000.0     201.221460  1.143207e+02     0.000000   \n",
              "\n",
              "                                    25%           50%           75%  \\\n",
              "Age                           25.000000     34.000000     42.000000   \n",
              "Annual_Income              19457.500000  37578.610000  72790.920000   \n",
              "Monthly_Inhand_Salary       1625.568229   3093.745000   5957.448333   \n",
              "Num_Bank_Accounts              3.000000      6.000000      7.000000   \n",
              "Num_Credit_Card                4.000000      5.000000      7.000000   \n",
              "Interest_Rate                  8.000000     13.000000     20.000000   \n",
              "Num_of_Loan                    2.000000      3.000000      6.000000   \n",
              "Delay_from_due_date           10.000000     18.000000     28.000000   \n",
              "Num_of_Delayed_Payment         8.000000     13.000000     18.000000   \n",
              "Changed_Credit_Limit           4.970000      9.250000     14.660000   \n",
              "Num_Credit_Inquiries           3.000000      6.000000      9.000000   \n",
              "Outstanding_Debt             566.072500   1166.155000   1945.962500   \n",
              "Credit_Utilization_Ratio      28.052567     32.305784     36.496663   \n",
              "Total_EMI_per_month           30.306660     69.249473    161.224249   \n",
              "Amount_invested_monthly       58.325837    116.545252    220.039055   \n",
              "Monthly_Balance              267.871374    334.806633    467.670597   \n",
              "Credit_History_Age_Months    114.000000    208.000000    292.000000   \n",
              "\n",
              "                                    max  \n",
              "Age                        8.698000e+03  \n",
              "Annual_Income              2.419806e+07  \n",
              "Monthly_Inhand_Salary      1.520463e+04  \n",
              "Num_Bank_Accounts          1.798000e+03  \n",
              "Num_Credit_Card            1.499000e+03  \n",
              "Interest_Rate              5.797000e+03  \n",
              "Num_of_Loan                1.496000e+03  \n",
              "Delay_from_due_date        6.700000e+01  \n",
              "Num_of_Delayed_Payment     4.397000e+03  \n",
              "Changed_Credit_Limit       3.697000e+01  \n",
              "Num_Credit_Inquiries       2.597000e+03  \n",
              "Outstanding_Debt           4.998070e+03  \n",
              "Credit_Utilization_Ratio   5.000000e+01  \n",
              "Total_EMI_per_month        8.233100e+04  \n",
              "Amount_invested_monthly    1.977326e+03  \n",
              "Monthly_Balance            1.602041e+03  \n",
              "Credit_History_Age_Months  4.040000e+02  "
            ],
            "text/html": [
              "\n",
              "  <div id=\"df-287b2ce1-8a1a-4033-b622-8e82ada52a85\" class=\"colab-df-container\">\n",
              "    <div>\n",
              "<style scoped>\n",
              "    .dataframe tbody tr th:only-of-type {\n",
              "        vertical-align: middle;\n",
              "    }\n",
              "\n",
              "    .dataframe tbody tr th {\n",
              "        vertical-align: top;\n",
              "    }\n",
              "\n",
              "    .dataframe thead th {\n",
              "        text-align: right;\n",
              "    }\n",
              "</style>\n",
              "<table border=\"1\" class=\"dataframe\">\n",
              "  <thead>\n",
              "    <tr style=\"text-align: right;\">\n",
              "      <th></th>\n",
              "      <th>count</th>\n",
              "      <th>mean</th>\n",
              "      <th>std</th>\n",
              "      <th>min</th>\n",
              "      <th>25%</th>\n",
              "      <th>50%</th>\n",
              "      <th>75%</th>\n",
              "      <th>max</th>\n",
              "    </tr>\n",
              "  </thead>\n",
              "  <tbody>\n",
              "    <tr>\n",
              "      <th>Age</th>\n",
              "      <td>100000.0</td>\n",
              "      <td>119.509700</td>\n",
              "      <td>6.847573e+02</td>\n",
              "      <td>14.000000</td>\n",
              "      <td>25.000000</td>\n",
              "      <td>34.000000</td>\n",
              "      <td>42.000000</td>\n",
              "      <td>8.698000e+03</td>\n",
              "    </tr>\n",
              "    <tr>\n",
              "      <th>Annual_Income</th>\n",
              "      <td>100000.0</td>\n",
              "      <td>176415.701298</td>\n",
              "      <td>1.429618e+06</td>\n",
              "      <td>7005.930000</td>\n",
              "      <td>19457.500000</td>\n",
              "      <td>37578.610000</td>\n",
              "      <td>72790.920000</td>\n",
              "      <td>2.419806e+07</td>\n",
              "    </tr>\n",
              "    <tr>\n",
              "      <th>Monthly_Inhand_Salary</th>\n",
              "      <td>84998.0</td>\n",
              "      <td>4194.170850</td>\n",
              "      <td>3.183686e+03</td>\n",
              "      <td>303.645417</td>\n",
              "      <td>1625.568229</td>\n",
              "      <td>3093.745000</td>\n",
              "      <td>5957.448333</td>\n",
              "      <td>1.520463e+04</td>\n",
              "    </tr>\n",
              "    <tr>\n",
              "      <th>Num_Bank_Accounts</th>\n",
              "      <td>100000.0</td>\n",
              "      <td>17.091280</td>\n",
              "      <td>1.174048e+02</td>\n",
              "      <td>-1.000000</td>\n",
              "      <td>3.000000</td>\n",
              "      <td>6.000000</td>\n",
              "      <td>7.000000</td>\n",
              "      <td>1.798000e+03</td>\n",
              "    </tr>\n",
              "    <tr>\n",
              "      <th>Num_Credit_Card</th>\n",
              "      <td>100000.0</td>\n",
              "      <td>22.474430</td>\n",
              "      <td>1.290574e+02</td>\n",
              "      <td>0.000000</td>\n",
              "      <td>4.000000</td>\n",
              "      <td>5.000000</td>\n",
              "      <td>7.000000</td>\n",
              "      <td>1.499000e+03</td>\n",
              "    </tr>\n",
              "    <tr>\n",
              "      <th>Interest_Rate</th>\n",
              "      <td>100000.0</td>\n",
              "      <td>72.466040</td>\n",
              "      <td>4.664226e+02</td>\n",
              "      <td>1.000000</td>\n",
              "      <td>8.000000</td>\n",
              "      <td>13.000000</td>\n",
              "      <td>20.000000</td>\n",
              "      <td>5.797000e+03</td>\n",
              "    </tr>\n",
              "    <tr>\n",
              "      <th>Num_of_Loan</th>\n",
              "      <td>100000.0</td>\n",
              "      <td>10.761960</td>\n",
              "      <td>6.178993e+01</td>\n",
              "      <td>0.000000</td>\n",
              "      <td>2.000000</td>\n",
              "      <td>3.000000</td>\n",
              "      <td>6.000000</td>\n",
              "      <td>1.496000e+03</td>\n",
              "    </tr>\n",
              "    <tr>\n",
              "      <th>Delay_from_due_date</th>\n",
              "      <td>100000.0</td>\n",
              "      <td>21.068780</td>\n",
              "      <td>1.486010e+01</td>\n",
              "      <td>-5.000000</td>\n",
              "      <td>10.000000</td>\n",
              "      <td>18.000000</td>\n",
              "      <td>28.000000</td>\n",
              "      <td>6.700000e+01</td>\n",
              "    </tr>\n",
              "    <tr>\n",
              "      <th>Num_of_Delayed_Payment</th>\n",
              "      <td>100000.0</td>\n",
              "      <td>28.779410</td>\n",
              "      <td>2.181148e+02</td>\n",
              "      <td>0.000000</td>\n",
              "      <td>8.000000</td>\n",
              "      <td>13.000000</td>\n",
              "      <td>18.000000</td>\n",
              "      <td>4.397000e+03</td>\n",
              "    </tr>\n",
              "    <tr>\n",
              "      <th>Changed_Credit_Limit</th>\n",
              "      <td>100000.0</td>\n",
              "      <td>10.171791</td>\n",
              "      <td>6.880628e+00</td>\n",
              "      <td>-6.490000</td>\n",
              "      <td>4.970000</td>\n",
              "      <td>9.250000</td>\n",
              "      <td>14.660000</td>\n",
              "      <td>3.697000e+01</td>\n",
              "    </tr>\n",
              "    <tr>\n",
              "      <th>Num_Credit_Inquiries</th>\n",
              "      <td>98035.0</td>\n",
              "      <td>27.754251</td>\n",
              "      <td>1.931773e+02</td>\n",
              "      <td>0.000000</td>\n",
              "      <td>3.000000</td>\n",
              "      <td>6.000000</td>\n",
              "      <td>9.000000</td>\n",
              "      <td>2.597000e+03</td>\n",
              "    </tr>\n",
              "    <tr>\n",
              "      <th>Outstanding_Debt</th>\n",
              "      <td>100000.0</td>\n",
              "      <td>1426.220376</td>\n",
              "      <td>1.155129e+03</td>\n",
              "      <td>0.230000</td>\n",
              "      <td>566.072500</td>\n",
              "      <td>1166.155000</td>\n",
              "      <td>1945.962500</td>\n",
              "      <td>4.998070e+03</td>\n",
              "    </tr>\n",
              "    <tr>\n",
              "      <th>Credit_Utilization_Ratio</th>\n",
              "      <td>100000.0</td>\n",
              "      <td>32.285173</td>\n",
              "      <td>5.116875e+00</td>\n",
              "      <td>20.000000</td>\n",
              "      <td>28.052567</td>\n",
              "      <td>32.305784</td>\n",
              "      <td>36.496663</td>\n",
              "      <td>5.000000e+01</td>\n",
              "    </tr>\n",
              "    <tr>\n",
              "      <th>Total_EMI_per_month</th>\n",
              "      <td>100000.0</td>\n",
              "      <td>1403.118217</td>\n",
              "      <td>8.306041e+03</td>\n",
              "      <td>0.000000</td>\n",
              "      <td>30.306660</td>\n",
              "      <td>69.249473</td>\n",
              "      <td>161.224249</td>\n",
              "      <td>8.233100e+04</td>\n",
              "    </tr>\n",
              "    <tr>\n",
              "      <th>Amount_invested_monthly</th>\n",
              "      <td>100000.0</td>\n",
              "      <td>178.363270</td>\n",
              "      <td>1.984724e+02</td>\n",
              "      <td>0.000000</td>\n",
              "      <td>58.325837</td>\n",
              "      <td>116.545252</td>\n",
              "      <td>220.039055</td>\n",
              "      <td>1.977326e+03</td>\n",
              "    </tr>\n",
              "    <tr>\n",
              "      <th>Monthly_Balance</th>\n",
              "      <td>100000.0</td>\n",
              "      <td>397.684413</td>\n",
              "      <td>2.171320e+02</td>\n",
              "      <td>0.000000</td>\n",
              "      <td>267.871374</td>\n",
              "      <td>334.806633</td>\n",
              "      <td>467.670597</td>\n",
              "      <td>1.602041e+03</td>\n",
              "    </tr>\n",
              "    <tr>\n",
              "      <th>Credit_History_Age_Months</th>\n",
              "      <td>100000.0</td>\n",
              "      <td>201.221460</td>\n",
              "      <td>1.143207e+02</td>\n",
              "      <td>0.000000</td>\n",
              "      <td>114.000000</td>\n",
              "      <td>208.000000</td>\n",
              "      <td>292.000000</td>\n",
              "      <td>4.040000e+02</td>\n",
              "    </tr>\n",
              "  </tbody>\n",
              "</table>\n",
              "</div>\n",
              "    <div class=\"colab-df-buttons\">\n",
              "\n",
              "  <div class=\"colab-df-container\">\n",
              "    <button class=\"colab-df-convert\" onclick=\"convertToInteractive('df-287b2ce1-8a1a-4033-b622-8e82ada52a85')\"\n",
              "            title=\"Convert this dataframe to an interactive table.\"\n",
              "            style=\"display:none;\">\n",
              "\n",
              "  <svg xmlns=\"http://www.w3.org/2000/svg\" height=\"24px\" viewBox=\"0 -960 960 960\">\n",
              "    <path d=\"M120-120v-720h720v720H120Zm60-500h600v-160H180v160Zm220 220h160v-160H400v160Zm0 220h160v-160H400v160ZM180-400h160v-160H180v160Zm440 0h160v-160H620v160ZM180-180h160v-160H180v160Zm440 0h160v-160H620v160Z\"/>\n",
              "  </svg>\n",
              "    </button>\n",
              "\n",
              "  <style>\n",
              "    .colab-df-container {\n",
              "      display:flex;\n",
              "      gap: 12px;\n",
              "    }\n",
              "\n",
              "    .colab-df-convert {\n",
              "      background-color: #E8F0FE;\n",
              "      border: none;\n",
              "      border-radius: 50%;\n",
              "      cursor: pointer;\n",
              "      display: none;\n",
              "      fill: #1967D2;\n",
              "      height: 32px;\n",
              "      padding: 0 0 0 0;\n",
              "      width: 32px;\n",
              "    }\n",
              "\n",
              "    .colab-df-convert:hover {\n",
              "      background-color: #E2EBFA;\n",
              "      box-shadow: 0px 1px 2px rgba(60, 64, 67, 0.3), 0px 1px 3px 1px rgba(60, 64, 67, 0.15);\n",
              "      fill: #174EA6;\n",
              "    }\n",
              "\n",
              "    .colab-df-buttons div {\n",
              "      margin-bottom: 4px;\n",
              "    }\n",
              "\n",
              "    [theme=dark] .colab-df-convert {\n",
              "      background-color: #3B4455;\n",
              "      fill: #D2E3FC;\n",
              "    }\n",
              "\n",
              "    [theme=dark] .colab-df-convert:hover {\n",
              "      background-color: #434B5C;\n",
              "      box-shadow: 0px 1px 3px 1px rgba(0, 0, 0, 0.15);\n",
              "      filter: drop-shadow(0px 1px 2px rgba(0, 0, 0, 0.3));\n",
              "      fill: #FFFFFF;\n",
              "    }\n",
              "  </style>\n",
              "\n",
              "    <script>\n",
              "      const buttonEl =\n",
              "        document.querySelector('#df-287b2ce1-8a1a-4033-b622-8e82ada52a85 button.colab-df-convert');\n",
              "      buttonEl.style.display =\n",
              "        google.colab.kernel.accessAllowed ? 'block' : 'none';\n",
              "\n",
              "      async function convertToInteractive(key) {\n",
              "        const element = document.querySelector('#df-287b2ce1-8a1a-4033-b622-8e82ada52a85');\n",
              "        const dataTable =\n",
              "          await google.colab.kernel.invokeFunction('convertToInteractive',\n",
              "                                                    [key], {});\n",
              "        if (!dataTable) return;\n",
              "\n",
              "        const docLinkHtml = 'Like what you see? Visit the ' +\n",
              "          '<a target=\"_blank\" href=https://colab.research.google.com/notebooks/data_table.ipynb>data table notebook</a>'\n",
              "          + ' to learn more about interactive tables.';\n",
              "        element.innerHTML = '';\n",
              "        dataTable['output_type'] = 'display_data';\n",
              "        await google.colab.output.renderOutput(dataTable, element);\n",
              "        const docLink = document.createElement('div');\n",
              "        docLink.innerHTML = docLinkHtml;\n",
              "        element.appendChild(docLink);\n",
              "      }\n",
              "    </script>\n",
              "  </div>\n",
              "\n",
              "\n",
              "<div id=\"df-09503958-63df-4be5-b408-0ac186ef9f90\">\n",
              "  <button class=\"colab-df-quickchart\" onclick=\"quickchart('df-09503958-63df-4be5-b408-0ac186ef9f90')\"\n",
              "            title=\"Suggest charts\"\n",
              "            style=\"display:none;\">\n",
              "\n",
              "<svg xmlns=\"http://www.w3.org/2000/svg\" height=\"24px\"viewBox=\"0 0 24 24\"\n",
              "     width=\"24px\">\n",
              "    <g>\n",
              "        <path d=\"M19 3H5c-1.1 0-2 .9-2 2v14c0 1.1.9 2 2 2h14c1.1 0 2-.9 2-2V5c0-1.1-.9-2-2-2zM9 17H7v-7h2v7zm4 0h-2V7h2v10zm4 0h-2v-4h2v4z\"/>\n",
              "    </g>\n",
              "</svg>\n",
              "  </button>\n",
              "\n",
              "<style>\n",
              "  .colab-df-quickchart {\n",
              "      --bg-color: #E8F0FE;\n",
              "      --fill-color: #1967D2;\n",
              "      --hover-bg-color: #E2EBFA;\n",
              "      --hover-fill-color: #174EA6;\n",
              "      --disabled-fill-color: #AAA;\n",
              "      --disabled-bg-color: #DDD;\n",
              "  }\n",
              "\n",
              "  [theme=dark] .colab-df-quickchart {\n",
              "      --bg-color: #3B4455;\n",
              "      --fill-color: #D2E3FC;\n",
              "      --hover-bg-color: #434B5C;\n",
              "      --hover-fill-color: #FFFFFF;\n",
              "      --disabled-bg-color: #3B4455;\n",
              "      --disabled-fill-color: #666;\n",
              "  }\n",
              "\n",
              "  .colab-df-quickchart {\n",
              "    background-color: var(--bg-color);\n",
              "    border: none;\n",
              "    border-radius: 50%;\n",
              "    cursor: pointer;\n",
              "    display: none;\n",
              "    fill: var(--fill-color);\n",
              "    height: 32px;\n",
              "    padding: 0;\n",
              "    width: 32px;\n",
              "  }\n",
              "\n",
              "  .colab-df-quickchart:hover {\n",
              "    background-color: var(--hover-bg-color);\n",
              "    box-shadow: 0 1px 2px rgba(60, 64, 67, 0.3), 0 1px 3px 1px rgba(60, 64, 67, 0.15);\n",
              "    fill: var(--button-hover-fill-color);\n",
              "  }\n",
              "\n",
              "  .colab-df-quickchart-complete:disabled,\n",
              "  .colab-df-quickchart-complete:disabled:hover {\n",
              "    background-color: var(--disabled-bg-color);\n",
              "    fill: var(--disabled-fill-color);\n",
              "    box-shadow: none;\n",
              "  }\n",
              "\n",
              "  .colab-df-spinner {\n",
              "    border: 2px solid var(--fill-color);\n",
              "    border-color: transparent;\n",
              "    border-bottom-color: var(--fill-color);\n",
              "    animation:\n",
              "      spin 1s steps(1) infinite;\n",
              "  }\n",
              "\n",
              "  @keyframes spin {\n",
              "    0% {\n",
              "      border-color: transparent;\n",
              "      border-bottom-color: var(--fill-color);\n",
              "      border-left-color: var(--fill-color);\n",
              "    }\n",
              "    20% {\n",
              "      border-color: transparent;\n",
              "      border-left-color: var(--fill-color);\n",
              "      border-top-color: var(--fill-color);\n",
              "    }\n",
              "    30% {\n",
              "      border-color: transparent;\n",
              "      border-left-color: var(--fill-color);\n",
              "      border-top-color: var(--fill-color);\n",
              "      border-right-color: var(--fill-color);\n",
              "    }\n",
              "    40% {\n",
              "      border-color: transparent;\n",
              "      border-right-color: var(--fill-color);\n",
              "      border-top-color: var(--fill-color);\n",
              "    }\n",
              "    60% {\n",
              "      border-color: transparent;\n",
              "      border-right-color: var(--fill-color);\n",
              "    }\n",
              "    80% {\n",
              "      border-color: transparent;\n",
              "      border-right-color: var(--fill-color);\n",
              "      border-bottom-color: var(--fill-color);\n",
              "    }\n",
              "    90% {\n",
              "      border-color: transparent;\n",
              "      border-bottom-color: var(--fill-color);\n",
              "    }\n",
              "  }\n",
              "</style>\n",
              "\n",
              "  <script>\n",
              "    async function quickchart(key) {\n",
              "      const quickchartButtonEl =\n",
              "        document.querySelector('#' + key + ' button');\n",
              "      quickchartButtonEl.disabled = true;  // To prevent multiple clicks.\n",
              "      quickchartButtonEl.classList.add('colab-df-spinner');\n",
              "      try {\n",
              "        const charts = await google.colab.kernel.invokeFunction(\n",
              "            'suggestCharts', [key], {});\n",
              "      } catch (error) {\n",
              "        console.error('Error during call to suggestCharts:', error);\n",
              "      }\n",
              "      quickchartButtonEl.classList.remove('colab-df-spinner');\n",
              "      quickchartButtonEl.classList.add('colab-df-quickchart-complete');\n",
              "    }\n",
              "    (() => {\n",
              "      let quickchartButtonEl =\n",
              "        document.querySelector('#df-09503958-63df-4be5-b408-0ac186ef9f90 button');\n",
              "      quickchartButtonEl.style.display =\n",
              "        google.colab.kernel.accessAllowed ? 'block' : 'none';\n",
              "    })();\n",
              "  </script>\n",
              "</div>\n",
              "    </div>\n",
              "  </div>\n"
            ],
            "application/vnd.google.colaboratory.intrinsic+json": {
              "type": "dataframe",
              "summary": "{\n  \"name\": \"data\",\n  \"rows\": 17,\n  \"fields\": [\n    {\n      \"column\": \"count\",\n      \"properties\": {\n        \"dtype\": \"number\",\n        \"std\": 3639.9447535400213,\n        \"min\": 84998.0,\n        \"max\": 100000.0,\n        \"num_unique_values\": 3,\n        \"samples\": [\n          100000.0,\n          84998.0,\n          98035.0\n        ],\n        \"semantic_type\": \"\",\n        \"description\": \"\"\n      }\n    },\n    {\n      \"column\": \"mean\",\n      \"properties\": {\n        \"dtype\": \"number\",\n        \"std\": 42676.30219708766,\n        \"min\": 10.1717906,\n        \"max\": 176415.70129814997,\n        \"num_unique_values\": 17,\n        \"samples\": [\n          119.5097,\n          176415.70129814997,\n          72.46604\n        ],\n        \"semantic_type\": \"\",\n        \"description\": \"\"\n      }\n    },\n    {\n      \"column\": \"std\",\n      \"properties\": {\n        \"dtype\": \"number\",\n        \"std\": 346510.8911316061,\n        \"min\": 5.116875070150906,\n        \"max\": 1429618.0514141545,\n        \"num_unique_values\": 17,\n        \"samples\": [\n          684.7573134999684,\n          1429618.0514141545,\n          466.4226212217138\n        ],\n        \"semantic_type\": \"\",\n        \"description\": \"\"\n      }\n    },\n    {\n      \"column\": \"min\",\n      \"properties\": {\n        \"dtype\": \"number\",\n        \"std\": 1695.8294490789813,\n        \"min\": -6.49,\n        \"max\": 7005.93,\n        \"num_unique_values\": 10,\n        \"samples\": [\n          0.23,\n          7005.93,\n          1.0\n        ],\n        \"semantic_type\": \"\",\n        \"description\": \"\"\n      }\n    },\n    {\n      \"column\": \"25%\",\n      \"properties\": {\n        \"dtype\": \"number\",\n        \"std\": 4694.521200838325,\n        \"min\": 2.0,\n        \"max\": 19457.5,\n        \"num_unique_values\": 15,\n        \"samples\": [\n          566.0725,\n          30.306660494686994,\n          25.0\n        ],\n        \"semantic_type\": \"\",\n        \"description\": \"\"\n      }\n    },\n    {\n      \"column\": \"50%\",\n      \"properties\": {\n        \"dtype\": \"number\",\n        \"std\": 9069.089149388885,\n        \"min\": 3.0,\n        \"max\": 37578.61,\n        \"num_unique_values\": 15,\n        \"samples\": [\n          1166.155,\n          69.24947329972044,\n          34.0\n        ],\n        \"semantic_type\": \"\",\n        \"description\": \"\"\n      }\n    },\n    {\n      \"column\": \"75%\",\n      \"properties\": {\n        \"dtype\": \"number\",\n        \"std\": 17575.593922501772,\n        \"min\": 6.0,\n        \"max\": 72790.92,\n        \"num_unique_values\": 16,\n        \"samples\": [\n          42.0,\n          72790.92,\n          6.0\n        ],\n        \"semantic_type\": \"\",\n        \"description\": \"\"\n      }\n    },\n    {\n      \"column\": \"max\",\n      \"properties\": {\n        \"dtype\": \"number\",\n        \"std\": 5866909.108628571,\n        \"min\": 36.97,\n        \"max\": 24198062.0,\n        \"num_unique_values\": 17,\n        \"samples\": [\n          8698.0,\n          24198062.0,\n          5797.0\n        ],\n        \"semantic_type\": \"\",\n        \"description\": \"\"\n      }\n    }\n  ]\n}"
            }
          },
          "metadata": {},
          "execution_count": 11
        }
      ]
    },
    {
      "cell_type": "markdown",
      "source": [
        "Shell berikut berisi program yang berfungsi untuk menghilangkan baris baris yang memiliki nilai dengan persentil tertentu. Berdasarkan program, batas nilai persentilnya adalah 0.98. jika nilai persentil pada suatu baris melebihi batas tersebut, maka program akan menghilangkannya."
      ],
      "metadata": {
        "id": "muzyXPq1Lgax"
      }
    },
    {
      "cell_type": "code",
      "source": [
        "selected_columns_data = data[['Num_Bank_Accounts', 'Interest_Rate', 'Annual_Income', 'Num_of_Delayed_Payment', 'Num_Credit_Inquiries', 'Total_EMI_per_month', 'Num_of_Loan', 'Num_Credit_Card']]\n",
        "\n",
        "percentile_threshold = 0.98\n",
        "percentiles = selected_columns_data.quantile(percentile_threshold)\n",
        "\n",
        "for column in selected_columns_data.columns:\n",
        "    data = data[data[column] <= percentiles[column]]"
      ],
      "metadata": {
        "id": "V2y3KuqJ1XT_"
      },
      "execution_count": null,
      "outputs": []
    },
    {
      "cell_type": "code",
      "source": [
        "data.describe().T"
      ],
      "metadata": {
        "colab": {
          "base_uri": "https://localhost:8080/",
          "height": 602
        },
        "id": "RNRswSgB1jw9",
        "outputId": "587b249e-ccdd-4461-fa54-d3225ded7a8b"
      },
      "execution_count": null,
      "outputs": [
        {
          "output_type": "execute_result",
          "data": {
            "text/plain": [
              "                             count          mean           std          min  \\\n",
              "Age                        85806.0    120.486003    690.067511    14.000000   \n",
              "Annual_Income              85806.0  49378.620726  36478.390299  7005.930000   \n",
              "Monthly_Inhand_Salary      72894.0   4105.781241   3036.319177   303.645417   \n",
              "Num_Bank_Accounts          85806.0      5.372759      2.585031    -1.000000   \n",
              "Num_Credit_Card            85806.0      5.779048      5.727016     0.000000   \n",
              "Interest_Rate              85806.0     14.551174      8.824173     1.000000   \n",
              "Num_of_Loan                85806.0      7.318381     18.881665     0.000000   \n",
              "Delay_from_due_date        85806.0     21.033483     14.786223    -5.000000   \n",
              "Num_of_Delayed_Payment     85806.0     12.348321      6.845002     0.000000   \n",
              "Changed_Credit_Limit       85806.0     10.189597      6.867078    -6.490000   \n",
              "Num_Credit_Inquiries       85806.0      5.757558      3.808858     0.000000   \n",
              "Outstanding_Debt           85806.0   1420.471486   1150.336514     0.230000   \n",
              "Credit_Utilization_Ratio   85806.0     32.250542      5.098798    20.000000   \n",
              "Total_EMI_per_month        85806.0    287.201729   1900.010819     0.000000   \n",
              "Amount_invested_monthly    85806.0    174.614986    190.440132     0.000000   \n",
              "Monthly_Balance            85806.0    393.844633    208.552121     0.000000   \n",
              "Credit_History_Age_Months  85806.0    201.374484    114.274695     0.000000   \n",
              "\n",
              "                                    25%           50%           75%  \\\n",
              "Age                           25.000000     34.000000     42.000000   \n",
              "Annual_Income              19294.460000  36780.030000  70825.760000   \n",
              "Monthly_Inhand_Salary       1623.778333   3069.091667   5899.970000   \n",
              "Num_Bank_Accounts              3.000000      6.000000      7.000000   \n",
              "Num_Credit_Card                4.000000      5.000000      7.000000   \n",
              "Interest_Rate                  7.000000     13.000000     20.000000   \n",
              "Num_of_Loan                    2.000000      3.000000      6.000000   \n",
              "Delay_from_due_date           10.000000     18.000000     28.000000   \n",
              "Num_of_Delayed_Payment         8.000000     13.000000     18.000000   \n",
              "Changed_Credit_Limit           4.990000      9.280000     14.710000   \n",
              "Num_Credit_Inquiries           3.000000      5.000000      8.000000   \n",
              "Outstanding_Debt             565.375000   1163.330000   1933.980000   \n",
              "Credit_Utilization_Ratio      28.024589     32.263129     36.468620   \n",
              "Total_EMI_per_month           29.489975     66.648703    148.997495   \n",
              "Amount_invested_monthly       58.040175    115.485412    216.812779   \n",
              "Monthly_Balance              268.094008    334.580384    464.420853   \n",
              "Credit_History_Age_Months    114.000000    209.000000    292.000000   \n",
              "\n",
              "                                     max  \n",
              "Age                          8698.000000  \n",
              "Annual_Income              166837.640000  \n",
              "Monthly_Inhand_Salary       14131.123333  \n",
              "Num_Bank_Accounts              10.000000  \n",
              "Num_Credit_Card               171.000000  \n",
              "Interest_Rate                 128.000000  \n",
              "Num_of_Loan                   100.000000  \n",
              "Delay_from_due_date            67.000000  \n",
              "Num_of_Delayed_Payment         25.000000  \n",
              "Changed_Credit_Limit           36.970000  \n",
              "Num_Credit_Inquiries           16.000000  \n",
              "Outstanding_Debt             4998.070000  \n",
              "Credit_Utilization_Ratio       48.489852  \n",
              "Total_EMI_per_month         29974.000000  \n",
              "Amount_invested_monthly      1775.048037  \n",
              "Monthly_Balance              1497.941923  \n",
              "Credit_History_Age_Months     404.000000  "
            ],
            "text/html": [
              "\n",
              "  <div id=\"df-8b87dba5-0b29-4873-91b9-32e24bb4034c\" class=\"colab-df-container\">\n",
              "    <div>\n",
              "<style scoped>\n",
              "    .dataframe tbody tr th:only-of-type {\n",
              "        vertical-align: middle;\n",
              "    }\n",
              "\n",
              "    .dataframe tbody tr th {\n",
              "        vertical-align: top;\n",
              "    }\n",
              "\n",
              "    .dataframe thead th {\n",
              "        text-align: right;\n",
              "    }\n",
              "</style>\n",
              "<table border=\"1\" class=\"dataframe\">\n",
              "  <thead>\n",
              "    <tr style=\"text-align: right;\">\n",
              "      <th></th>\n",
              "      <th>count</th>\n",
              "      <th>mean</th>\n",
              "      <th>std</th>\n",
              "      <th>min</th>\n",
              "      <th>25%</th>\n",
              "      <th>50%</th>\n",
              "      <th>75%</th>\n",
              "      <th>max</th>\n",
              "    </tr>\n",
              "  </thead>\n",
              "  <tbody>\n",
              "    <tr>\n",
              "      <th>Age</th>\n",
              "      <td>85806.0</td>\n",
              "      <td>120.486003</td>\n",
              "      <td>690.067511</td>\n",
              "      <td>14.000000</td>\n",
              "      <td>25.000000</td>\n",
              "      <td>34.000000</td>\n",
              "      <td>42.000000</td>\n",
              "      <td>8698.000000</td>\n",
              "    </tr>\n",
              "    <tr>\n",
              "      <th>Annual_Income</th>\n",
              "      <td>85806.0</td>\n",
              "      <td>49378.620726</td>\n",
              "      <td>36478.390299</td>\n",
              "      <td>7005.930000</td>\n",
              "      <td>19294.460000</td>\n",
              "      <td>36780.030000</td>\n",
              "      <td>70825.760000</td>\n",
              "      <td>166837.640000</td>\n",
              "    </tr>\n",
              "    <tr>\n",
              "      <th>Monthly_Inhand_Salary</th>\n",
              "      <td>72894.0</td>\n",
              "      <td>4105.781241</td>\n",
              "      <td>3036.319177</td>\n",
              "      <td>303.645417</td>\n",
              "      <td>1623.778333</td>\n",
              "      <td>3069.091667</td>\n",
              "      <td>5899.970000</td>\n",
              "      <td>14131.123333</td>\n",
              "    </tr>\n",
              "    <tr>\n",
              "      <th>Num_Bank_Accounts</th>\n",
              "      <td>85806.0</td>\n",
              "      <td>5.372759</td>\n",
              "      <td>2.585031</td>\n",
              "      <td>-1.000000</td>\n",
              "      <td>3.000000</td>\n",
              "      <td>6.000000</td>\n",
              "      <td>7.000000</td>\n",
              "      <td>10.000000</td>\n",
              "    </tr>\n",
              "    <tr>\n",
              "      <th>Num_Credit_Card</th>\n",
              "      <td>85806.0</td>\n",
              "      <td>5.779048</td>\n",
              "      <td>5.727016</td>\n",
              "      <td>0.000000</td>\n",
              "      <td>4.000000</td>\n",
              "      <td>5.000000</td>\n",
              "      <td>7.000000</td>\n",
              "      <td>171.000000</td>\n",
              "    </tr>\n",
              "    <tr>\n",
              "      <th>Interest_Rate</th>\n",
              "      <td>85806.0</td>\n",
              "      <td>14.551174</td>\n",
              "      <td>8.824173</td>\n",
              "      <td>1.000000</td>\n",
              "      <td>7.000000</td>\n",
              "      <td>13.000000</td>\n",
              "      <td>20.000000</td>\n",
              "      <td>128.000000</td>\n",
              "    </tr>\n",
              "    <tr>\n",
              "      <th>Num_of_Loan</th>\n",
              "      <td>85806.0</td>\n",
              "      <td>7.318381</td>\n",
              "      <td>18.881665</td>\n",
              "      <td>0.000000</td>\n",
              "      <td>2.000000</td>\n",
              "      <td>3.000000</td>\n",
              "      <td>6.000000</td>\n",
              "      <td>100.000000</td>\n",
              "    </tr>\n",
              "    <tr>\n",
              "      <th>Delay_from_due_date</th>\n",
              "      <td>85806.0</td>\n",
              "      <td>21.033483</td>\n",
              "      <td>14.786223</td>\n",
              "      <td>-5.000000</td>\n",
              "      <td>10.000000</td>\n",
              "      <td>18.000000</td>\n",
              "      <td>28.000000</td>\n",
              "      <td>67.000000</td>\n",
              "    </tr>\n",
              "    <tr>\n",
              "      <th>Num_of_Delayed_Payment</th>\n",
              "      <td>85806.0</td>\n",
              "      <td>12.348321</td>\n",
              "      <td>6.845002</td>\n",
              "      <td>0.000000</td>\n",
              "      <td>8.000000</td>\n",
              "      <td>13.000000</td>\n",
              "      <td>18.000000</td>\n",
              "      <td>25.000000</td>\n",
              "    </tr>\n",
              "    <tr>\n",
              "      <th>Changed_Credit_Limit</th>\n",
              "      <td>85806.0</td>\n",
              "      <td>10.189597</td>\n",
              "      <td>6.867078</td>\n",
              "      <td>-6.490000</td>\n",
              "      <td>4.990000</td>\n",
              "      <td>9.280000</td>\n",
              "      <td>14.710000</td>\n",
              "      <td>36.970000</td>\n",
              "    </tr>\n",
              "    <tr>\n",
              "      <th>Num_Credit_Inquiries</th>\n",
              "      <td>85806.0</td>\n",
              "      <td>5.757558</td>\n",
              "      <td>3.808858</td>\n",
              "      <td>0.000000</td>\n",
              "      <td>3.000000</td>\n",
              "      <td>5.000000</td>\n",
              "      <td>8.000000</td>\n",
              "      <td>16.000000</td>\n",
              "    </tr>\n",
              "    <tr>\n",
              "      <th>Outstanding_Debt</th>\n",
              "      <td>85806.0</td>\n",
              "      <td>1420.471486</td>\n",
              "      <td>1150.336514</td>\n",
              "      <td>0.230000</td>\n",
              "      <td>565.375000</td>\n",
              "      <td>1163.330000</td>\n",
              "      <td>1933.980000</td>\n",
              "      <td>4998.070000</td>\n",
              "    </tr>\n",
              "    <tr>\n",
              "      <th>Credit_Utilization_Ratio</th>\n",
              "      <td>85806.0</td>\n",
              "      <td>32.250542</td>\n",
              "      <td>5.098798</td>\n",
              "      <td>20.000000</td>\n",
              "      <td>28.024589</td>\n",
              "      <td>32.263129</td>\n",
              "      <td>36.468620</td>\n",
              "      <td>48.489852</td>\n",
              "    </tr>\n",
              "    <tr>\n",
              "      <th>Total_EMI_per_month</th>\n",
              "      <td>85806.0</td>\n",
              "      <td>287.201729</td>\n",
              "      <td>1900.010819</td>\n",
              "      <td>0.000000</td>\n",
              "      <td>29.489975</td>\n",
              "      <td>66.648703</td>\n",
              "      <td>148.997495</td>\n",
              "      <td>29974.000000</td>\n",
              "    </tr>\n",
              "    <tr>\n",
              "      <th>Amount_invested_monthly</th>\n",
              "      <td>85806.0</td>\n",
              "      <td>174.614986</td>\n",
              "      <td>190.440132</td>\n",
              "      <td>0.000000</td>\n",
              "      <td>58.040175</td>\n",
              "      <td>115.485412</td>\n",
              "      <td>216.812779</td>\n",
              "      <td>1775.048037</td>\n",
              "    </tr>\n",
              "    <tr>\n",
              "      <th>Monthly_Balance</th>\n",
              "      <td>85806.0</td>\n",
              "      <td>393.844633</td>\n",
              "      <td>208.552121</td>\n",
              "      <td>0.000000</td>\n",
              "      <td>268.094008</td>\n",
              "      <td>334.580384</td>\n",
              "      <td>464.420853</td>\n",
              "      <td>1497.941923</td>\n",
              "    </tr>\n",
              "    <tr>\n",
              "      <th>Credit_History_Age_Months</th>\n",
              "      <td>85806.0</td>\n",
              "      <td>201.374484</td>\n",
              "      <td>114.274695</td>\n",
              "      <td>0.000000</td>\n",
              "      <td>114.000000</td>\n",
              "      <td>209.000000</td>\n",
              "      <td>292.000000</td>\n",
              "      <td>404.000000</td>\n",
              "    </tr>\n",
              "  </tbody>\n",
              "</table>\n",
              "</div>\n",
              "    <div class=\"colab-df-buttons\">\n",
              "\n",
              "  <div class=\"colab-df-container\">\n",
              "    <button class=\"colab-df-convert\" onclick=\"convertToInteractive('df-8b87dba5-0b29-4873-91b9-32e24bb4034c')\"\n",
              "            title=\"Convert this dataframe to an interactive table.\"\n",
              "            style=\"display:none;\">\n",
              "\n",
              "  <svg xmlns=\"http://www.w3.org/2000/svg\" height=\"24px\" viewBox=\"0 -960 960 960\">\n",
              "    <path d=\"M120-120v-720h720v720H120Zm60-500h600v-160H180v160Zm220 220h160v-160H400v160Zm0 220h160v-160H400v160ZM180-400h160v-160H180v160Zm440 0h160v-160H620v160ZM180-180h160v-160H180v160Zm440 0h160v-160H620v160Z\"/>\n",
              "  </svg>\n",
              "    </button>\n",
              "\n",
              "  <style>\n",
              "    .colab-df-container {\n",
              "      display:flex;\n",
              "      gap: 12px;\n",
              "    }\n",
              "\n",
              "    .colab-df-convert {\n",
              "      background-color: #E8F0FE;\n",
              "      border: none;\n",
              "      border-radius: 50%;\n",
              "      cursor: pointer;\n",
              "      display: none;\n",
              "      fill: #1967D2;\n",
              "      height: 32px;\n",
              "      padding: 0 0 0 0;\n",
              "      width: 32px;\n",
              "    }\n",
              "\n",
              "    .colab-df-convert:hover {\n",
              "      background-color: #E2EBFA;\n",
              "      box-shadow: 0px 1px 2px rgba(60, 64, 67, 0.3), 0px 1px 3px 1px rgba(60, 64, 67, 0.15);\n",
              "      fill: #174EA6;\n",
              "    }\n",
              "\n",
              "    .colab-df-buttons div {\n",
              "      margin-bottom: 4px;\n",
              "    }\n",
              "\n",
              "    [theme=dark] .colab-df-convert {\n",
              "      background-color: #3B4455;\n",
              "      fill: #D2E3FC;\n",
              "    }\n",
              "\n",
              "    [theme=dark] .colab-df-convert:hover {\n",
              "      background-color: #434B5C;\n",
              "      box-shadow: 0px 1px 3px 1px rgba(0, 0, 0, 0.15);\n",
              "      filter: drop-shadow(0px 1px 2px rgba(0, 0, 0, 0.3));\n",
              "      fill: #FFFFFF;\n",
              "    }\n",
              "  </style>\n",
              "\n",
              "    <script>\n",
              "      const buttonEl =\n",
              "        document.querySelector('#df-8b87dba5-0b29-4873-91b9-32e24bb4034c button.colab-df-convert');\n",
              "      buttonEl.style.display =\n",
              "        google.colab.kernel.accessAllowed ? 'block' : 'none';\n",
              "\n",
              "      async function convertToInteractive(key) {\n",
              "        const element = document.querySelector('#df-8b87dba5-0b29-4873-91b9-32e24bb4034c');\n",
              "        const dataTable =\n",
              "          await google.colab.kernel.invokeFunction('convertToInteractive',\n",
              "                                                    [key], {});\n",
              "        if (!dataTable) return;\n",
              "\n",
              "        const docLinkHtml = 'Like what you see? Visit the ' +\n",
              "          '<a target=\"_blank\" href=https://colab.research.google.com/notebooks/data_table.ipynb>data table notebook</a>'\n",
              "          + ' to learn more about interactive tables.';\n",
              "        element.innerHTML = '';\n",
              "        dataTable['output_type'] = 'display_data';\n",
              "        await google.colab.output.renderOutput(dataTable, element);\n",
              "        const docLink = document.createElement('div');\n",
              "        docLink.innerHTML = docLinkHtml;\n",
              "        element.appendChild(docLink);\n",
              "      }\n",
              "    </script>\n",
              "  </div>\n",
              "\n",
              "\n",
              "<div id=\"df-54da5fdd-c53d-4c4a-8688-9c7ee81a409f\">\n",
              "  <button class=\"colab-df-quickchart\" onclick=\"quickchart('df-54da5fdd-c53d-4c4a-8688-9c7ee81a409f')\"\n",
              "            title=\"Suggest charts\"\n",
              "            style=\"display:none;\">\n",
              "\n",
              "<svg xmlns=\"http://www.w3.org/2000/svg\" height=\"24px\"viewBox=\"0 0 24 24\"\n",
              "     width=\"24px\">\n",
              "    <g>\n",
              "        <path d=\"M19 3H5c-1.1 0-2 .9-2 2v14c0 1.1.9 2 2 2h14c1.1 0 2-.9 2-2V5c0-1.1-.9-2-2-2zM9 17H7v-7h2v7zm4 0h-2V7h2v10zm4 0h-2v-4h2v4z\"/>\n",
              "    </g>\n",
              "</svg>\n",
              "  </button>\n",
              "\n",
              "<style>\n",
              "  .colab-df-quickchart {\n",
              "      --bg-color: #E8F0FE;\n",
              "      --fill-color: #1967D2;\n",
              "      --hover-bg-color: #E2EBFA;\n",
              "      --hover-fill-color: #174EA6;\n",
              "      --disabled-fill-color: #AAA;\n",
              "      --disabled-bg-color: #DDD;\n",
              "  }\n",
              "\n",
              "  [theme=dark] .colab-df-quickchart {\n",
              "      --bg-color: #3B4455;\n",
              "      --fill-color: #D2E3FC;\n",
              "      --hover-bg-color: #434B5C;\n",
              "      --hover-fill-color: #FFFFFF;\n",
              "      --disabled-bg-color: #3B4455;\n",
              "      --disabled-fill-color: #666;\n",
              "  }\n",
              "\n",
              "  .colab-df-quickchart {\n",
              "    background-color: var(--bg-color);\n",
              "    border: none;\n",
              "    border-radius: 50%;\n",
              "    cursor: pointer;\n",
              "    display: none;\n",
              "    fill: var(--fill-color);\n",
              "    height: 32px;\n",
              "    padding: 0;\n",
              "    width: 32px;\n",
              "  }\n",
              "\n",
              "  .colab-df-quickchart:hover {\n",
              "    background-color: var(--hover-bg-color);\n",
              "    box-shadow: 0 1px 2px rgba(60, 64, 67, 0.3), 0 1px 3px 1px rgba(60, 64, 67, 0.15);\n",
              "    fill: var(--button-hover-fill-color);\n",
              "  }\n",
              "\n",
              "  .colab-df-quickchart-complete:disabled,\n",
              "  .colab-df-quickchart-complete:disabled:hover {\n",
              "    background-color: var(--disabled-bg-color);\n",
              "    fill: var(--disabled-fill-color);\n",
              "    box-shadow: none;\n",
              "  }\n",
              "\n",
              "  .colab-df-spinner {\n",
              "    border: 2px solid var(--fill-color);\n",
              "    border-color: transparent;\n",
              "    border-bottom-color: var(--fill-color);\n",
              "    animation:\n",
              "      spin 1s steps(1) infinite;\n",
              "  }\n",
              "\n",
              "  @keyframes spin {\n",
              "    0% {\n",
              "      border-color: transparent;\n",
              "      border-bottom-color: var(--fill-color);\n",
              "      border-left-color: var(--fill-color);\n",
              "    }\n",
              "    20% {\n",
              "      border-color: transparent;\n",
              "      border-left-color: var(--fill-color);\n",
              "      border-top-color: var(--fill-color);\n",
              "    }\n",
              "    30% {\n",
              "      border-color: transparent;\n",
              "      border-left-color: var(--fill-color);\n",
              "      border-top-color: var(--fill-color);\n",
              "      border-right-color: var(--fill-color);\n",
              "    }\n",
              "    40% {\n",
              "      border-color: transparent;\n",
              "      border-right-color: var(--fill-color);\n",
              "      border-top-color: var(--fill-color);\n",
              "    }\n",
              "    60% {\n",
              "      border-color: transparent;\n",
              "      border-right-color: var(--fill-color);\n",
              "    }\n",
              "    80% {\n",
              "      border-color: transparent;\n",
              "      border-right-color: var(--fill-color);\n",
              "      border-bottom-color: var(--fill-color);\n",
              "    }\n",
              "    90% {\n",
              "      border-color: transparent;\n",
              "      border-bottom-color: var(--fill-color);\n",
              "    }\n",
              "  }\n",
              "</style>\n",
              "\n",
              "  <script>\n",
              "    async function quickchart(key) {\n",
              "      const quickchartButtonEl =\n",
              "        document.querySelector('#' + key + ' button');\n",
              "      quickchartButtonEl.disabled = true;  // To prevent multiple clicks.\n",
              "      quickchartButtonEl.classList.add('colab-df-spinner');\n",
              "      try {\n",
              "        const charts = await google.colab.kernel.invokeFunction(\n",
              "            'suggestCharts', [key], {});\n",
              "      } catch (error) {\n",
              "        console.error('Error during call to suggestCharts:', error);\n",
              "      }\n",
              "      quickchartButtonEl.classList.remove('colab-df-spinner');\n",
              "      quickchartButtonEl.classList.add('colab-df-quickchart-complete');\n",
              "    }\n",
              "    (() => {\n",
              "      let quickchartButtonEl =\n",
              "        document.querySelector('#df-54da5fdd-c53d-4c4a-8688-9c7ee81a409f button');\n",
              "      quickchartButtonEl.style.display =\n",
              "        google.colab.kernel.accessAllowed ? 'block' : 'none';\n",
              "    })();\n",
              "  </script>\n",
              "</div>\n",
              "    </div>\n",
              "  </div>\n"
            ],
            "application/vnd.google.colaboratory.intrinsic+json": {
              "type": "dataframe",
              "summary": "{\n  \"name\": \"data\",\n  \"rows\": 17,\n  \"fields\": [\n    {\n      \"column\": \"count\",\n      \"properties\": {\n        \"dtype\": \"number\",\n        \"std\": 3131.619990469131,\n        \"min\": 72894.0,\n        \"max\": 85806.0,\n        \"num_unique_values\": 2,\n        \"samples\": [\n          72894.0,\n          85806.0\n        ],\n        \"semantic_type\": \"\",\n        \"description\": \"\"\n      }\n    },\n    {\n      \"column\": \"mean\",\n      \"properties\": {\n        \"dtype\": \"number\",\n        \"std\": 11915.530549675861,\n        \"min\": 5.3727594806889964,\n        \"max\": 49378.62072553202,\n        \"num_unique_values\": 17,\n        \"samples\": [\n          120.48600330979185,\n          49378.62072553202\n        ],\n        \"semantic_type\": \"\",\n        \"description\": \"\"\n      }\n    },\n    {\n      \"column\": \"std\",\n      \"properties\": {\n        \"dtype\": \"number\",\n        \"std\": 8776.14081984341,\n        \"min\": 2.5850314955519034,\n        \"max\": 36478.39029890719,\n        \"num_unique_values\": 17,\n        \"samples\": [\n          690.0675110451233,\n          36478.39029890719\n        ],\n        \"semantic_type\": \"\",\n        \"description\": \"\"\n      }\n    },\n    {\n      \"column\": \"min\",\n      \"properties\": {\n        \"dtype\": \"number\",\n        \"std\": 1695.8294490789813,\n        \"min\": -6.49,\n        \"max\": 7005.93,\n        \"num_unique_values\": 10,\n        \"samples\": [\n          0.23,\n          7005.93\n        ],\n        \"semantic_type\": \"\",\n        \"description\": \"\"\n      }\n    },\n    {\n      \"column\": \"25%\",\n      \"properties\": {\n        \"dtype\": \"number\",\n        \"std\": 4655.156238810676,\n        \"min\": 2.0,\n        \"max\": 19294.46,\n        \"num_unique_values\": 16,\n        \"samples\": [\n          25.0,\n          19294.46\n        ],\n        \"semantic_type\": \"\",\n        \"description\": \"\"\n      }\n    },\n    {\n      \"column\": \"50%\",\n      \"properties\": {\n        \"dtype\": \"number\",\n        \"std\": 8876.103143539829,\n        \"min\": 3.0,\n        \"max\": 36780.03,\n        \"num_unique_values\": 15,\n        \"samples\": [\n          1163.33,\n          66.6487033985263\n        ],\n        \"semantic_type\": \"\",\n        \"description\": \"\"\n      }\n    },\n    {\n      \"column\": \"75%\",\n      \"properties\": {\n        \"dtype\": \"number\",\n        \"std\": 17100.865059758315,\n        \"min\": 6.0,\n        \"max\": 70825.76,\n        \"num_unique_values\": 16,\n        \"samples\": [\n          42.0,\n          70825.76\n        ],\n        \"semantic_type\": \"\",\n        \"description\": \"\"\n      }\n    },\n    {\n      \"column\": \"max\",\n      \"properties\": {\n        \"dtype\": \"number\",\n        \"std\": 40277.64769019069,\n        \"min\": 10.0,\n        \"max\": 166837.64,\n        \"num_unique_values\": 17,\n        \"samples\": [\n          8698.0,\n          166837.64\n        ],\n        \"semantic_type\": \"\",\n        \"description\": \"\"\n      }\n    }\n  ]\n}"
            }
          },
          "metadata": {},
          "execution_count": 13
        }
      ]
    },
    {
      "cell_type": "markdown",
      "source": [
        "# Filtering"
      ],
      "metadata": {
        "id": "I9SC3sLO1rB7"
      }
    },
    {
      "cell_type": "markdown",
      "source": [
        "Shell-shell berikut berfungsi untuk menghapus karakter-karakter yang tidak bisa diproses pada model yang akan dibuat."
      ],
      "metadata": {
        "id": "pw513iXbMFwY"
      }
    },
    {
      "cell_type": "code",
      "source": [
        "data = data[data['Payment_Behaviour'] != '!@9#%8']"
      ],
      "metadata": {
        "id": "ga2vE-tm1taH"
      },
      "execution_count": null,
      "outputs": []
    },
    {
      "cell_type": "code",
      "source": [
        "data = data[data['Occupation'] != '_______']\n",
        "print(data['Occupation'].unique())"
      ],
      "metadata": {
        "colab": {
          "base_uri": "https://localhost:8080/"
        },
        "id": "h2siJhOc1zeA",
        "outputId": "c9233a3e-75b2-45c8-9e25-b82f997146d9"
      },
      "execution_count": null,
      "outputs": [
        {
          "output_type": "stream",
          "name": "stdout",
          "text": [
            "['Scientist' 'Teacher' 'Engineer' 'Entrepreneur' 'Developer' 'Lawyer'\n",
            " 'Media_Manager' 'Doctor' 'Journalist' 'Manager' 'Accountant' 'Musician'\n",
            " 'Mechanic' 'Writer' 'Architect']\n"
          ]
        }
      ]
    },
    {
      "cell_type": "code",
      "source": [
        "data = data[data['Credit_Mix'] != '_']\n",
        "print(data['Credit_Mix'].unique())"
      ],
      "metadata": {
        "colab": {
          "base_uri": "https://localhost:8080/"
        },
        "id": "smYwWdxW13Xe",
        "outputId": "99950f53-3fc9-4298-ddf9-6de28720833d"
      },
      "execution_count": null,
      "outputs": [
        {
          "output_type": "stream",
          "name": "stdout",
          "text": [
            "['Good' 'Standard' 'Bad']\n"
          ]
        }
      ]
    },
    {
      "cell_type": "markdown",
      "source": [
        "# Negative Values"
      ],
      "metadata": {
        "id": "i-5U33_318X0"
      }
    },
    {
      "cell_type": "markdown",
      "source": [
        "Shell tersebut berisi program yang berfungsi untuk melakukan filtering data, dimana program hanya mengambil suatu data dengan nilai tertentu. Pada kasus ini, nilai tersebut adalah >= 0."
      ],
      "metadata": {
        "id": "xeoj8IWXMbtP"
      }
    },
    {
      "cell_type": "code",
      "source": [
        "selected_columns = ['Delay_from_due_date', 'Changed_Credit_Limit', 'Num_Bank_Accounts']\n",
        "\n",
        "for column in selected_columns:\n",
        "    data = data[data[column] >= 0]"
      ],
      "metadata": {
        "id": "ESYjw7aj18Ag"
      },
      "execution_count": null,
      "outputs": []
    },
    {
      "cell_type": "markdown",
      "source": [
        "# Dropping Columns"
      ],
      "metadata": {
        "id": "BqgK4aAz2E74"
      }
    },
    {
      "cell_type": "markdown",
      "source": [
        "Shell berikut berfungsi untuk melakukan dropping atau menghilangkan kolom-kolom tertentu dan kemudian menyimpan hasil proses pada variabel yang berisi dataset di awal."
      ],
      "metadata": {
        "id": "vo4iTRlSNHPV"
      }
    },
    {
      "cell_type": "code",
      "source": [
        "columns_to_drop = ['ID', 'Customer_ID', 'Month', 'Name', 'SSN', 'Credit_History_Age','Monthly_Inhand_Salary', 'Type_of_Loan']\n",
        "\n",
        "data.drop(columns=columns_to_drop, inplace=True)\n"
      ],
      "metadata": {
        "id": "7utRaHDR2Jlx"
      },
      "execution_count": null,
      "outputs": []
    },
    {
      "cell_type": "markdown",
      "source": [
        "# Missing Values"
      ],
      "metadata": {
        "id": "L6M3MyAd2R6R"
      }
    },
    {
      "cell_type": "markdown",
      "source": [
        "Shell berikut berfungsi untuk melakukan pengecekan terhadap nilai null pada suatu baris data. jika terdapat nilai null, maka program akan memberitahu total nilai null yang telah dijumlahkan."
      ],
      "metadata": {
        "id": "1g0H3N7DPAi-"
      }
    },
    {
      "cell_type": "code",
      "source": [
        "total_missing_values = data.isnull().sum().sum()\n",
        "\n",
        "if total_missing_values == 0:\n",
        "    print(\"There are no missing values\")\n",
        "else:\n",
        "    print(\"Total missing values:\", total_missing_values)"
      ],
      "metadata": {
        "colab": {
          "base_uri": "https://localhost:8080/"
        },
        "id": "GyKk1HoO2Um5",
        "outputId": "9fb0bebb-fbee-4822-be7b-93f3e94bd9b7"
      },
      "execution_count": null,
      "outputs": [
        {
          "output_type": "stream",
          "name": "stdout",
          "text": [
            "There are no missing values\n"
          ]
        }
      ]
    },
    {
      "cell_type": "markdown",
      "source": [
        "# Feature Engineering"
      ],
      "metadata": {
        "id": "uH1SHKDR2zq7"
      }
    },
    {
      "cell_type": "markdown",
      "source": [
        "Shell berikut berfungsi untuk melakukan visualisasi berbentuk grafik terhadap kolom-kolom numerik yang ada."
      ],
      "metadata": {
        "id": "vHC4Dm03QuLw"
      }
    },
    {
      "cell_type": "code",
      "source": [
        "numeric_columns = data.select_dtypes(include=['int64', 'float64']).columns\n",
        "\n",
        "num_columns = 8\n",
        "num_rows = (len(numeric_columns) + num_columns - 1) // num_columns\n",
        "\n",
        "fig, axes = plt.subplots(num_rows, num_columns, figsize=(16, 6))\n",
        "\n",
        "axes = axes.flatten()\n",
        "\n",
        "for i, column in enumerate(numeric_columns):\n",
        "    sns.boxplot(x=data[column], ax=axes[i])\n",
        "    axes[i].set_title(column, fontsize=7)\n",
        "    axes[i].set_xlabel('Value', fontsize=7)\n",
        "    axes[i].set_ylabel('Count', fontsize=7)\n",
        "\n",
        "for j in range(len(numeric_columns), num_columns*num_rows):\n",
        "    axes[j].axis('off')\n",
        "\n",
        "plt.tight_layout()\n",
        "plt.show()\n"
      ],
      "metadata": {
        "colab": {
          "base_uri": "https://localhost:8080/",
          "height": 251
        },
        "id": "0gwr9erB229f",
        "outputId": "19827879-071a-49f6-b314-6b09722e7935"
      },
      "execution_count": null,
      "outputs": [
        {
          "output_type": "display_data",
          "data": {
            "text/plain": [
              "<Figure size 1600x600 with 16 Axes>"
            ],
            "image/png": "[encoded data removed]"
          },
          "metadata": {}
        }
      ]
    },
    {
      "cell_type": "markdown",
      "source": [
        "# Scaling 2.0"
      ],
      "metadata": {
        "id": "G9ICwNQ_4tdx"
      }
    },
    {
      "cell_type": "markdown",
      "source": [
        "Shell berikut berfungsi untuk mengambil nilai-nilai yang telah ditentukan batasnya pada kolom-kolom tertentu."
      ],
      "metadata": {
        "id": "G6aJt51DR9VR"
      }
    },
    {
      "cell_type": "code",
      "source": [
        "data = data[data['Age'] < 60]\n",
        "data = data[data['Num_Credit_Card'] <= 10]\n",
        "data = data[data['Interest_Rate'] <= 50]\n",
        "data = data[data['Num_of_Loan'] <= 12]\n",
        "data = data[data['Num_Bank_Accounts'] <= 10]\n",
        "data = data[data['Delay_from_due_date'] <= 60]\n",
        "data = data[data['Changed_Credit_Limit'] <= 30]\n",
        "data = data[data['Num_Credit_Inquiries'] <= 12]\n",
        "data = data[data['Total_EMI_per_month'] <= 200]\n",
        "data = data[data['Outstanding_Debt'] <= 1500]"
      ],
      "metadata": {
        "id": "zO39qhZ64_xx"
      },
      "execution_count": null,
      "outputs": []
    },
    {
      "cell_type": "markdown",
      "source": [
        "# Encoding"
      ],
      "metadata": {
        "id": "SfxgBnNQ4zK8"
      }
    },
    {
      "cell_type": "markdown",
      "source": [
        "# Label Encoder"
      ],
      "metadata": {
        "id": "-pJCvT8l5E0p"
      }
    },
    {
      "cell_type": "markdown",
      "source": [
        "Shell-shell berikut berfungsi untuk melakukan encoding terhadap kolom yang ditentukan. Kolom yang di encode akan merubah nilai yang awalnya bersifat kategorikal menjadi numerik."
      ],
      "metadata": {
        "id": "IPjCUYkbVLGI"
      }
    },
    {
      "cell_type": "code",
      "source": [
        "categories = ['Poor', 'Standard', 'Good']\n",
        "\n",
        "encoder = OrdinalEncoder(categories=[categories])\n",
        "\n",
        "data['Credit_Score_Encoded'] = encoder.fit_transform(data[['Credit_Score']])"
      ],
      "metadata": {
        "id": "eLfiKz4N5C2g"
      },
      "execution_count": null,
      "outputs": []
    },
    {
      "cell_type": "code",
      "source": [
        "label_encoder = LabelEncoder()\n",
        "data['Occupation_Encoded'] = label_encoder.fit_transform(data['Occupation'])"
      ],
      "metadata": {
        "id": "KINyXiGJ5ZE-"
      },
      "execution_count": null,
      "outputs": []
    },
    {
      "cell_type": "markdown",
      "source": [
        "# Ordinal Encoder"
      ],
      "metadata": {
        "id": "JUvsQkEl5eVX"
      }
    },
    {
      "cell_type": "markdown",
      "source": [
        "Mirip seperti sebelumnya, shell-shell berikut juga melakukan encoding pada kolom-kolom yang telah ditentukan."
      ],
      "metadata": {
        "id": "Gi2QXfx5WLNN"
      }
    },
    {
      "cell_type": "code",
      "source": [
        "categories = ['Bad', 'Standard', 'Good']\n",
        "\n",
        "encoder = OrdinalEncoder(categories=[categories])\n",
        "\n",
        "data['Credit_Mix_Encoded'] = encoder.fit_transform(data[['Credit_Mix']])"
      ],
      "metadata": {
        "id": "iIvVtUO95p-g"
      },
      "execution_count": null,
      "outputs": []
    },
    {
      "cell_type": "code",
      "source": [
        "categories_payment_behaviour = [\n",
        "    'Low_spent_Small_value_payments',\n",
        "    'Low_spent_Medium_value_payments',\n",
        "    'Low_spent_Large_value_payments',\n",
        "    'High_spent_Small_value_payments',\n",
        "    'High_spent_Medium_value_payments',\n",
        "    'High_spent_Large_value_payments'\n",
        "]\n",
        "\n",
        "encoder_payment_behaviour = OrdinalEncoder(categories=[categories_payment_behaviour])\n",
        "\n",
        "data['Payment_Behaviour_Encoded'] = encoder_payment_behaviour.fit_transform(data[['Payment_Behaviour']])"
      ],
      "metadata": {
        "id": "uEyiSQwg52Ps"
      },
      "execution_count": null,
      "outputs": []
    },
    {
      "cell_type": "markdown",
      "source": [
        "# Dropping Unencoded Columns"
      ],
      "metadata": {
        "id": "TQJ2gqb05_vV"
      }
    },
    {
      "cell_type": "markdown",
      "source": [
        "Shell-shell berikut berfungsi untuk menghilangkan kolom-kolom tertentu yang tidak diencode."
      ],
      "metadata": {
        "id": "djIwA3iEWb5M"
      }
    },
    {
      "cell_type": "code",
      "source": [
        "columns_to_drop = [ 'Payment_Behaviour', 'Credit_Mix', 'Occupation','Credit_Score']\n",
        "data.drop(columns=columns_to_drop, inplace=True)"
      ],
      "metadata": {
        "id": "TEoQY3B86J82"
      },
      "execution_count": null,
      "outputs": []
    },
    {
      "cell_type": "markdown",
      "source": [
        "# New Feature"
      ],
      "metadata": {
        "id": "_fIFw3FM6SS8"
      }
    },
    {
      "cell_type": "markdown",
      "source": [
        "Shell berikut berfungsi untuk embuat fitur baru dengan mengkombinasikan dua fitur menjadi satu. Fitur-fitur yang dikombinasikan akan disimpan kedalam deklarasi fitur baru di dalam dataset."
      ],
      "metadata": {
        "id": "ovfC826zWvsK"
      }
    },
    {
      "cell_type": "code",
      "source": [
        "data['Total_Num_Accounts'] = data['Num_Bank_Accounts'] + data['Num_Credit_Card']\n",
        "\n",
        "# Calculate the total outstanding debt per account\n",
        "\n",
        "data['Debt_Per_Account'] = data['Outstanding_Debt'] / data['Total_Num_Accounts']\n",
        "\n",
        "# Calculate the ratio of outstanding debt to annual income\n",
        "\n",
        "data['Debt_to_Income_Ratio'] = data['Outstanding_Debt'] / data['Annual_Income']\n",
        "\n",
        "# Calculate the total number of delayed payments per account\n",
        "\n",
        "data['Delayed_Payments_Per_Account'] = data['Num_of_Delayed_Payment'] / data['Total_Num_Accounts']\n",
        "\n",
        "# Calculate the total monthly expenses (EMI + Monthly Investments)\n",
        "\n",
        "data['Total_Monthly_Expenses'] = data['Total_EMI_per_month'] + data['Amount_invested_monthly']"
      ],
      "metadata": {
        "id": "P2UVAV656Wv0"
      },
      "execution_count": null,
      "outputs": []
    },
    {
      "cell_type": "markdown",
      "source": [
        "# MI Score"
      ],
      "metadata": {
        "id": "LOA4ehwO6fK0"
      }
    },
    {
      "cell_type": "markdown",
      "source": [
        "Shell berikut berisi program yang berfungsi untuk mencari nilai Mutual Informatio Score. Program ini bertujuan untuk mengodekan variabel kategorikal dalam dataset menggunakan metode OrdinalEncoder dan menghitung skor informasi mutual (mutual information score) menggunakan metode mutual_info_classif."
      ],
      "metadata": {
        "id": "zCylUIKSXdLD"
      }
    },
    {
      "cell_type": "code",
      "source": [
        "categorical_columns = data.select_dtypes(include=['object']).columns\n",
        "\n",
        "data_encoded = data.copy()\n",
        "\n",
        "encoder = OrdinalEncoder()\n",
        "data_encoded[categorical_columns] = encoder.fit_transform(data_encoded[categorical_columns])\n",
        "\n",
        "y = data_encoded['Credit_Score_Encoded']\n",
        "X = data_encoded.drop(columns=['Credit_Score_Encoded'])\n",
        "\n",
        "mi_scores = mutual_info_classif(X, y)\n",
        "\n",
        "for i, score in enumerate(mi_scores):\n",
        "    print(f\"Feature '{X.columns[i]}': Mutual Information Score = {score}\")"
      ],
      "metadata": {
        "colab": {
          "base_uri": "https://localhost:8080/"
        },
        "id": "0au4XQ2j6gxm",
        "outputId": "5e49b067-e7d6-4a4e-e204-60f4bb768456"
      },
      "execution_count": null,
      "outputs": [
        {
          "output_type": "stream",
          "name": "stdout",
          "text": [
            "Feature 'Age': Mutual Information Score = 0.005225933923882264\n",
            "Feature 'Annual_Income': Mutual Information Score = 0.42858177664004327\n",
            "Feature 'Num_Bank_Accounts': Mutual Information Score = 0.05329025706291479\n",
            "Feature 'Num_Credit_Card': Mutual Information Score = 0.07275626807253821\n",
            "Feature 'Interest_Rate': Mutual Information Score = 0.10290300845283928\n",
            "Feature 'Num_of_Loan': Mutual Information Score = 0.01919388806990896\n",
            "Feature 'Delay_from_due_date': Mutual Information Score = 0.06752484185127705\n",
            "Feature 'Num_of_Delayed_Payment': Mutual Information Score = 0.05169581429513426\n",
            "Feature 'Changed_Credit_Limit': Mutual Information Score = 0.10377087382237327\n",
            "Feature 'Num_Credit_Inquiries': Mutual Information Score = 0.029431877819147356\n",
            "Feature 'Outstanding_Debt': Mutual Information Score = 0.4304126369886663\n",
            "Feature 'Credit_Utilization_Ratio': Mutual Information Score = 0.0008940600062685711\n",
            "Feature 'Payment_of_Min_Amount': Mutual Information Score = 0.07243253943088379\n",
            "Feature 'Total_EMI_per_month': Mutual Information Score = 0.3497794717194005\n",
            "Feature 'Amount_invested_monthly': Mutual Information Score = 0.0033731339135711913\n",
            "Feature 'Monthly_Balance': Mutual Information Score = 0.005231600861078878\n",
            "Feature 'Credit_History_Age_Months': Mutual Information Score = 0.01869573790532697\n",
            "Feature 'Occupation_Encoded': Mutual Information Score = 0.005751414910213137\n",
            "Feature 'Credit_Mix_Encoded': Mutual Information Score = 0.18133523295916842\n",
            "Feature 'Payment_Behaviour_Encoded': Mutual Information Score = 0.006372709045977087\n",
            "Feature 'Total_Num_Accounts': Mutual Information Score = 0.08106765713494957\n",
            "Feature 'Debt_Per_Account': Mutual Information Score = 0.43217283435591924\n",
            "Feature 'Debt_to_Income_Ratio': Mutual Information Score = 0.4341979215566987\n",
            "Feature 'Delayed_Payments_Per_Account': Mutual Information Score = 0.05241406063634213\n",
            "Feature 'Total_Monthly_Expenses': Mutual Information Score = 0.0049439195266089975\n"
          ]
        }
      ]
    },
    {
      "cell_type": "markdown",
      "source": [
        "Shell berikut merupakan visualisasi dari hasil program sebelumnya."
      ],
      "metadata": {
        "id": "sBMHDcR3X5Nk"
      }
    },
    {
      "cell_type": "code",
      "source": [
        "sorted_mi_scores = sorted(zip(X.columns, mi_scores), key=lambda x: x[1], reverse=True)\n",
        "sorted_columns = [x[0] for x in sorted_mi_scores]\n",
        "sorted_scores = [x[1] for x in sorted_mi_scores]\n",
        "\n",
        "colorscale = 'Viridis'\n",
        "\n",
        "fig = go.Figure(data=[go.Bar(x=sorted_columns, y=sorted_scores, marker=dict(color=sorted_scores, colorbar=dict(title='Mutual Information Score', len=0.5, y=0.2)))])\n",
        "\n",
        "fig.update_layout(title='Mutual Information Scores for Each Feature',\n",
        "                  xaxis_title='Features',\n",
        "                  yaxis_title='Mutual Information Score')\n",
        "\n",
        "fig.show()"
      ],
      "metadata": {
        "colab": {
          "base_uri": "https://localhost:8080/",
          "height": 542
        },
        "id": "ojiLntg66pde",
        "outputId": "1edfb518-59a4-495e-fa13-7926ff30efa0"
      },
      "execution_count": null,
      "outputs": [
        {
          "output_type": "display_data",
          "data": {
            "text/html": [
              "<html>\n",
              "<head><meta charset=\"utf-8\" /></head>\n",
              "<body>\n",
              "    <div>            <script src=\"https://cdnjs.cloudflare.com/ajax/libs/mathjax/2.7.5/MathJax.js?config=TeX-AMS-MML_SVG\"></script><script type=\"text/javascript\">if (window.MathJax && window.MathJax.Hub && window.MathJax.Hub.Config) {window.MathJax.Hub.Config({SVG: {font: \"STIX-Web\"}});}</script>                <script type=\"text/javascript\">window.PlotlyConfig = {MathJaxConfig: 'local'};</script>\n",
              "        <script charset=\"utf-8\" src=\"https://cdn.plot.ly/plotly-2.24.1.min.js\"></script>                <div id=\"59c0bfe8-b2d1-4cb2-b840-4c5b614bafab\" class=\"plotly-graph-div\" style=\"height:525px; width:100%;\"></div>            <script type=\"text/javascript\">                                    window.PLOTLYENV=window.PLOTLYENV || {};                                    if (document.getElementById(\"59c0bfe8-b2d1-4cb2-b840-4c5b614bafab\")) {                    Plotly.newPlot(                        \"59c0bfe8-b2d1-4cb2-b840-4c5b614bafab\",                        [{\"marker\":{\"color\":[0.4341979215566987,0.43217283435591924,0.4304126369886663,0.42858177664004327,0.3497794717194005,0.18133523295916842,0.10377087382237327,0.10290300845283928,0.08106765713494957,0.07275626807253821,0.07243253943088379,0.06752484185127705,0.05329025706291479,0.05241406063634213,0.05169581429513426,0.029431877819147356,0.01919388806990896,0.01869573790532697,0.006372709045977087,0.005751414910213137,0.005231600861078878,0.005225933923882264,0.0049439195266089975,0.0033731339135711913,0.0008940600062685711],\"colorbar\":{\"len\":0.5,\"title\":{\"text\":\"Mutual Information Score\"},\"y\":0.2}},\"x\":[\"Debt_to_Income_Ratio\",\"Debt_Per_Account\",\"Outstanding_Debt\",\"Annual_Income\",\"Total_EMI_per_month\",\"Credit_Mix_Encoded\",\"Changed_Credit_Limit\",\"Interest_Rate\",\"Total_Num_Accounts\",\"Num_Credit_Card\",\"Payment_of_Min_Amount\",\"Delay_from_due_date\",\"Num_Bank_Accounts\",\"Delayed_Payments_Per_Account\",\"Num_of_Delayed_Payment\",\"Num_Credit_Inquiries\",\"Num_of_Loan\",\"Credit_History_Age_Months\",\"Payment_Behaviour_Encoded\",\"Occupation_Encoded\",\"Monthly_Balance\",\"Age\",\"Total_Monthly_Expenses\",\"Amount_invested_monthly\",\"Credit_Utilization_Ratio\"],\"y\":[0.4341979215566987,0.43217283435591924,0.4304126369886663,0.42858177664004327,0.3497794717194005,0.18133523295916842,0.10377087382237327,0.10290300845283928,0.08106765713494957,0.07275626807253821,0.07243253943088379,0.06752484185127705,0.05329025706291479,0.05241406063634213,0.05169581429513426,0.029431877819147356,0.01919388806990896,0.01869573790532697,0.006372709045977087,0.005751414910213137,0.005231600861078878,0.005225933923882264,0.0049439195266089975,0.0033731339135711913,0.0008940600062685711],\"type\":\"bar\"}],                        {\"template\":{\"data\":{\"histogram2dcontour\":[{\"type\":\"histogram2dcontour\",\"colorbar\":{\"outlinewidth\":0,\"ticks\":\"\"},\"colorscale\":[[0.0,\"#0d0887\"],[0.1111111111111111,\"#46039f\"],[0.2222222222222222,\"#7201a8\"],[0.3333333333333333,\"#9c179e\"],[0.4444444444444444,\"#bd3786\"],[0.5555555555555556,\"#d8576b\"],[0.6666666666666666,\"#ed7953\"],[0.7777777777777778,\"#fb9f3a\"],[0.8888888888888888,\"#fdca26\"],[1.0,\"#f0f921\"]]}],\"choropleth\":[{\"type\":\"choropleth\",\"colorbar\":{\"outlinewidth\":0,\"ticks\":\"\"}}],\"histogram2d\":[{\"type\":\"histogram2d\",\"colorbar\":{\"outlinewidth\":0,\"ticks\":\"\"},\"colorscale\":[[0.0,\"#0d0887\"],[0.1111111111111111,\"#46039f\"],[0.2222222222222222,\"#7201a8\"],[0.3333333333333333,\"#9c179e\"],[0.4444444444444444,\"#bd3786\"],[0.5555555555555556,\"#d8576b\"],[0.6666666666666666,\"#ed7953\"],[0.7777777777777778,\"#fb9f3a\"],[0.8888888888888888,\"#fdca26\"],[1.0,\"#f0f921\"]]}],\"heatmap\":[{\"type\":\"heatmap\",\"colorbar\":{\"outlinewidth\":0,\"ticks\":\"\"},\"colorscale\":[[0.0,\"#0d0887\"],[0.1111111111111111,\"#46039f\"],[0.2222222222222222,\"#7201a8\"],[0.3333333333333333,\"#9c179e\"],[0.4444444444444444,\"#bd3786\"],[0.5555555555555556,\"#d8576b\"],[0.6666666666666666,\"#ed7953\"],[0.7777777777777778,\"#fb9f3a\"],[0.8888888888888888,\"#fdca26\"],[1.0,\"#f0f921\"]]}],\"heatmapgl\":[{\"type\":\"heatmapgl\",\"colorbar\":{\"outlinewidth\":0,\"ticks\":\"\"},\"colorscale\":[[0.0,\"#0d0887\"],[0.1111111111111111,\"#46039f\"],[0.2222222222222222,\"#7201a8\"],[0.3333333333333333,\"#9c179e\"],[0.4444444444444444,\"#bd3786\"],[0.5555555555555556,\"#d8576b\"],[0.6666666666666666,\"#ed7953\"],[0.7777777777777778,\"#fb9f3a\"],[0.8888888888888888,\"#fdca26\"],[1.0,\"#f0f921\"]]}],\"contourcarpet\":[{\"type\":\"contourcarpet\",\"colorbar\":{\"outlinewidth\":0,\"ticks\":\"\"}}],\"contour\":[{\"type\":\"contour\",\"colorbar\":{\"outlinewidth\":0,\"ticks\":\"\"},\"colorscale\":[[0.0,\"#0d0887\"],[0.1111111111111111,\"#46039f\"],[0.2222222222222222,\"#7201a8\"],[0.3333333333333333,\"#9c179e\"],[0.4444444444444444,\"#bd3786\"],[0.5555555555555556,\"#d8576b\"],[0.6666666666666666,\"#ed7953\"],[0.7777777777777778,\"#fb9f3a\"],[0.8888888888888888,\"#fdca26\"],[1.0,\"#f0f921\"]]}],\"surface\":[{\"type\":\"surface\",\"colorbar\":{\"outlinewidth\":0,\"ticks\":\"\"},\"colorscale\":[[0.0,\"#0d0887\"],[0.1111111111111111,\"#46039f\"],[0.2222222222222222,\"#7201a8\"],[0.3333333333333333,\"#9c179e\"],[0.4444444444444444,\"#bd3786\"],[0.5555555555555556,\"#d8576b\"],[0.6666666666666666,\"#ed7953\"],[0.7777777777777778,\"#fb9f3a\"],[0.8888888888888888,\"#fdca26\"],[1.0,\"#f0f921\"]]}],\"mesh3d\":[{\"type\":\"mesh3d\",\"colorbar\":{\"outlinewidth\":0,\"ticks\":\"\"}}],\"scatter\":[{\"fillpattern\":{\"fillmode\":\"overlay\",\"size\":10,\"solidity\":0.2},\"type\":\"scatter\"}],\"parcoords\":[{\"type\":\"parcoords\",\"line\":{\"colorbar\":{\"outlinewidth\":0,\"ticks\":\"\"}}}],\"scatterpolargl\":[{\"type\":\"scatterpolargl\",\"marker\":{\"colorbar\":{\"outlinewidth\":0,\"ticks\":\"\"}}}],\"bar\":[{\"error_x\":{\"color\":\"#2a3f5f\"},\"error_y\":{\"color\":\"#2a3f5f\"},\"marker\":{\"line\":{\"color\":\"#E5ECF6\",\"width\":0.5},\"pattern\":{\"fillmode\":\"overlay\",\"size\":10,\"solidity\":0.2}},\"type\":\"bar\"}],\"scattergeo\":[{\"type\":\"scattergeo\",\"marker\":{\"colorbar\":{\"outlinewidth\":0,\"ticks\":\"\"}}}],\"scatterpolar\":[{\"type\":\"scatterpolar\",\"marker\":{\"colorbar\":{\"outlinewidth\":0,\"ticks\":\"\"}}}],\"histogram\":[{\"marker\":{\"pattern\":{\"fillmode\":\"overlay\",\"size\":10,\"solidity\":0.2}},\"type\":\"histogram\"}],\"scattergl\":[{\"type\":\"scattergl\",\"marker\":{\"colorbar\":{\"outlinewidth\":0,\"ticks\":\"\"}}}],\"scatter3d\":[{\"type\":\"scatter3d\",\"line\":{\"colorbar\":{\"outlinewidth\":0,\"ticks\":\"\"}},\"marker\":{\"colorbar\":{\"outlinewidth\":0,\"ticks\":\"\"}}}],\"scattermapbox\":[{\"type\":\"scattermapbox\",\"marker\":{\"colorbar\":{\"outlinewidth\":0,\"ticks\":\"\"}}}],\"scatterternary\":[{\"type\":\"scatterternary\",\"marker\":{\"colorbar\":{\"outlinewidth\":0,\"ticks\":\"\"}}}],\"scattercarpet\":[{\"type\":\"scattercarpet\",\"marker\":{\"colorbar\":{\"outlinewidth\":0,\"ticks\":\"\"}}}],\"carpet\":[{\"aaxis\":{\"endlinecolor\":\"#2a3f5f\",\"gridcolor\":\"white\",\"linecolor\":\"white\",\"minorgridcolor\":\"white\",\"startlinecolor\":\"#2a3f5f\"},\"baxis\":{\"endlinecolor\":\"#2a3f5f\",\"gridcolor\":\"white\",\"linecolor\":\"white\",\"minorgridcolor\":\"white\",\"startlinecolor\":\"#2a3f5f\"},\"type\":\"carpet\"}],\"table\":[{\"cells\":{\"fill\":{\"color\":\"#EBF0F8\"},\"line\":{\"color\":\"white\"}},\"header\":{\"fill\":{\"color\":\"#C8D4E3\"},\"line\":{\"color\":\"white\"}},\"type\":\"table\"}],\"barpolar\":[{\"marker\":{\"line\":{\"color\":\"#E5ECF6\",\"width\":0.5},\"pattern\":{\"fillmode\":\"overlay\",\"size\":10,\"solidity\":0.2}},\"type\":\"barpolar\"}],\"pie\":[{\"automargin\":true,\"type\":\"pie\"}]},\"layout\":{\"autotypenumbers\":\"strict\",\"colorway\":[\"#636efa\",\"#EF553B\",\"#00cc96\",\"#ab63fa\",\"#FFA15A\",\"#19d3f3\",\"#FF6692\",\"#B6E880\",\"#FF97FF\",\"#FECB52\"],\"font\":{\"color\":\"#2a3f5f\"},\"hovermode\":\"closest\",\"hoverlabel\":{\"align\":\"left\"},\"paper_bgcolor\":\"white\",\"plot_bgcolor\":\"#E5ECF6\",\"polar\":{\"bgcolor\":\"#E5ECF6\",\"angularaxis\":{\"gridcolor\":\"white\",\"linecolor\":\"white\",\"ticks\":\"\"},\"radialaxis\":{\"gridcolor\":\"white\",\"linecolor\":\"white\",\"ticks\":\"\"}},\"ternary\":{\"bgcolor\":\"#E5ECF6\",\"aaxis\":{\"gridcolor\":\"white\",\"linecolor\":\"white\",\"ticks\":\"\"},\"baxis\":{\"gridcolor\":\"white\",\"linecolor\":\"white\",\"ticks\":\"\"},\"caxis\":{\"gridcolor\":\"white\",\"linecolor\":\"white\",\"ticks\":\"\"}},\"coloraxis\":{\"colorbar\":{\"outlinewidth\":0,\"ticks\":\"\"}},\"colorscale\":{\"sequential\":[[0.0,\"#0d0887\"],[0.1111111111111111,\"#46039f\"],[0.2222222222222222,\"#7201a8\"],[0.3333333333333333,\"#9c179e\"],[0.4444444444444444,\"#bd3786\"],[0.5555555555555556,\"#d8576b\"],[0.6666666666666666,\"#ed7953\"],[0.7777777777777778,\"#fb9f3a\"],[0.8888888888888888,\"#fdca26\"],[1.0,\"#f0f921\"]],\"sequentialminus\":[[0.0,\"#0d0887\"],[0.1111111111111111,\"#46039f\"],[0.2222222222222222,\"#7201a8\"],[0.3333333333333333,\"#9c179e\"],[0.4444444444444444,\"#bd3786\"],[0.5555555555555556,\"#d8576b\"],[0.6666666666666666,\"#ed7953\"],[0.7777777777777778,\"#fb9f3a\"],[0.8888888888888888,\"#fdca26\"],[1.0,\"#f0f921\"]],\"diverging\":[[0,\"#8e0152\"],[0.1,\"#c51b7d\"],[0.2,\"#de77ae\"],[0.3,\"#f1b6da\"],[0.4,\"#fde0ef\"],[0.5,\"#f7f7f7\"],[0.6,\"#e6f5d0\"],[0.7,\"#b8e186\"],[0.8,\"#7fbc41\"],[0.9,\"#4d9221\"],[1,\"#276419\"]]},\"xaxis\":{\"gridcolor\":\"white\",\"linecolor\":\"white\",\"ticks\":\"\",\"title\":{\"standoff\":15},\"zerolinecolor\":\"white\",\"automargin\":true,\"zerolinewidth\":2},\"yaxis\":{\"gridcolor\":\"white\",\"linecolor\":\"white\",\"ticks\":\"\",\"title\":{\"standoff\":15},\"zerolinecolor\":\"white\",\"automargin\":true,\"zerolinewidth\":2},\"scene\":{\"xaxis\":{\"backgroundcolor\":\"#E5ECF6\",\"gridcolor\":\"white\",\"linecolor\":\"white\",\"showbackground\":true,\"ticks\":\"\",\"zerolinecolor\":\"white\",\"gridwidth\":2},\"yaxis\":{\"backgroundcolor\":\"#E5ECF6\",\"gridcolor\":\"white\",\"linecolor\":\"white\",\"showbackground\":true,\"ticks\":\"\",\"zerolinecolor\":\"white\",\"gridwidth\":2},\"zaxis\":{\"backgroundcolor\":\"#E5ECF6\",\"gridcolor\":\"white\",\"linecolor\":\"white\",\"showbackground\":true,\"ticks\":\"\",\"zerolinecolor\":\"white\",\"gridwidth\":2}},\"shapedefaults\":{\"line\":{\"color\":\"#2a3f5f\"}},\"annotationdefaults\":{\"arrowcolor\":\"#2a3f5f\",\"arrowhead\":0,\"arrowwidth\":1},\"geo\":{\"bgcolor\":\"white\",\"landcolor\":\"#E5ECF6\",\"subunitcolor\":\"white\",\"showland\":true,\"showlakes\":true,\"lakecolor\":\"white\"},\"title\":{\"x\":0.05},\"mapbox\":{\"style\":\"light\"}}},\"title\":{\"text\":\"Mutual Information Scores for Each Feature\"},\"xaxis\":{\"title\":{\"text\":\"Features\"}},\"yaxis\":{\"title\":{\"text\":\"Mutual Information Score\"}}},                        {\"responsive\": true}                    ).then(function(){\n",
              "                            \n",
              "var gd = document.getElementById('59c0bfe8-b2d1-4cb2-b840-4c5b614bafab');\n",
              "var x = new MutationObserver(function (mutations, observer) {{\n",
              "        var display = window.getComputedStyle(gd).display;\n",
              "        if (!display || display === 'none') {{\n",
              "            console.log([gd, 'removed!']);\n",
              "            Plotly.purge(gd);\n",
              "            observer.disconnect();\n",
              "        }}\n",
              "}});\n",
              "\n",
              "// Listen for the removal of the full notebook cells\n",
              "var notebookContainer = gd.closest('#notebook-container');\n",
              "if (notebookContainer) {{\n",
              "    x.observe(notebookContainer, {childList: true});\n",
              "}}\n",
              "\n",
              "// Listen for the clearing of the current output cell\n",
              "var outputEl = gd.closest('.output');\n",
              "if (outputEl) {{\n",
              "    x.observe(outputEl, {childList: true});\n",
              "}}\n",
              "\n",
              "                        })                };                            </script>        </div>\n",
              "</body>\n",
              "</html>"
            ]
          },
          "metadata": {}
        }
      ]
    },
    {
      "cell_type": "markdown",
      "source": [
        "Mirip seperti yang dilakukan sebelumnya, Shell berikut berisi program yang melakukan dropping terhadap kolom tertentu."
      ],
      "metadata": {
        "id": "sHfiZFm3YByv"
      }
    },
    {
      "cell_type": "code",
      "source": [
        "columns_to_drop = [ 'Payment_of_Min_Amount', 'Age', 'Monthly_Balance', 'Total_Monthly_Expenses', 'Payment_Behaviour_Encoded', 'Amount_invested_monthly', 'Credit_Utilization_Ratio', 'Occupation_Encoded']\n",
        "data.drop(columns=columns_to_drop, inplace=True)"
      ],
      "metadata": {
        "id": "t-A9aajakQAc"
      },
      "execution_count": null,
      "outputs": []
    },
    {
      "cell_type": "markdown",
      "source": [
        "# Model"
      ],
      "metadata": {
        "id": "YhvLjWQtAS9R"
      }
    },
    {
      "cell_type": "markdown",
      "source": [
        "Shell berikut berisi program yang melakukan metode datasplit dimana metode tersebut memisahkan antara fitur dan target pada dataset untuk melakukan pemodelan."
      ],
      "metadata": {
        "id": "NC4iDgZwYeDL"
      }
    },
    {
      "cell_type": "code",
      "source": [
        "y = data['Credit_Score_Encoded']\n",
        "\n",
        "X = data[['Annual_Income', 'Num_Bank_Accounts', 'Num_Credit_Card',\n",
        "       'Interest_Rate', 'Num_of_Loan', 'Delay_from_due_date',\n",
        "       'Num_of_Delayed_Payment', 'Changed_Credit_Limit',\n",
        "       'Num_Credit_Inquiries', 'Outstanding_Debt', 'Total_EMI_per_month',\n",
        "       'Credit_History_Age_Months', 'Credit_Mix_Encoded', 'Total_Num_Accounts',\n",
        "       'Debt_Per_Account', 'Debt_to_Income_Ratio', 'Delayed_Payments_Per_Account']]\n",
        "\n",
        "X_train, X_test, y_train, y_test = train_test_split(X, y, test_size=0.2, random_state=77)"
      ],
      "metadata": {
        "id": "c7zLmkjBAUd9"
      },
      "execution_count": null,
      "outputs": []
    },
    {
      "cell_type": "markdown",
      "source": [
        "Shell berikut berisi program yang memroses nilai MSE (Mean Squared Error). dengan menggunakan XGBRegressor, fitur, dan target yang telah dideklarasikan sebelumnya, program akan menghitung nilai MSE dan menampilkan nilainya."
      ],
      "metadata": {
        "id": "Xn-40DNcYsBL"
      }
    },
    {
      "cell_type": "code",
      "source": [
        "xgb_model = XGBRegressor(n_estimators=3500, learning_rate=0.05, random_state=77)\n",
        "xgb_model.fit(X_train, y_train)\n",
        "\n",
        "y_pred_xgb = xgb_model.predict(X_test)\n",
        "mse = mean_squared_error(y_test, y_pred_xgb)\n",
        "\n",
        "print(\"Mean Squared Error (MSE):\", mse)"
      ],
      "metadata": {
        "colab": {
          "base_uri": "https://localhost:8080/"
        },
        "id": "RAti4ZoNAklr",
        "outputId": "91ffbcd2-796e-43c6-ccdf-f6ef45e6d55e"
      },
      "execution_count": null,
      "outputs": [
        {
          "output_type": "stream",
          "name": "stdout",
          "text": [
            "Mean Squared Error (MSE): 0.162767004196021\n"
          ]
        }
      ]
    },
    {
      "cell_type": "markdown",
      "source": [
        "Shell tersebut berisi program untuk menghitung akurasi dari training data asli dan data yang telah diproses dengan bantuan modul SMOTE."
      ],
      "metadata": {
        "id": "l5cV0jG2ZXqe"
      }
    },
    {
      "cell_type": "code",
      "source": [
        "smote_params = {\n",
        "    'sampling_strategy': 'auto',\n",
        "    'random_state': 77,\n",
        "    'k_neighbors': 5,\n",
        "    'n_jobs': -1\n",
        "}\n",
        "\n",
        "smote = SMOTE(**smote_params)\n",
        "\n",
        "X_train = data.drop('Credit_Score_Encoded', axis=1)\n",
        "y_train = data['Credit_Score_Encoded']\n",
        "\n",
        "X_smote, y_smote = smote.fit_resample(X_train, y_train)\n",
        "X_train_smote, X_test_smote, y_train_smote, y_test_smote = train_test_split(X_smote, y_smote, test_size=0.15, random_state=77)\n",
        "\n",
        "xgb_classifier = XGBClassifier(n_estimators=1000, bootstrap=True)\n",
        "\n",
        "xgb_classifier.fit(X_train_smote, y_train_smote)\n",
        "\n",
        "print(\"Accuracy on training set:\", xgb_classifier.score(X_train_smote, y_train_smote))\n",
        "\n",
        "y_pred_smote = xgb_classifier.predict(X_test_smote)\n",
        "accuracy_smote = accuracy_score(y_test_smote, y_pred_smote)\n",
        "\n",
        "print(\"Accuracy on SMOTE test set:\", accuracy_smote)"
      ],
      "metadata": {
        "colab": {
          "base_uri": "https://localhost:8080/"
        },
        "id": "kHPBIxnYfSfu",
        "outputId": "82eb3d87-d203-4905-a42a-942df9dff21d"
      },
      "execution_count": null,
      "outputs": [
        {
          "output_type": "stream",
          "name": "stderr",
          "text": [
            "/usr/local/lib/python3.10/dist-packages/xgboost/core.py:160: UserWarning:\n",
            "\n",
            "[07:50:25] WARNING: /workspace/src/learner.cc:742: \n",
            "Parameters: { \"bootstrap\" } are not used.\n",
            "\n",
            "\n"
          ]
        },
        {
          "output_type": "stream",
          "name": "stdout",
          "text": [
            "Accuracy on training set: 0.9988191701616516\n",
            "Accuracy on SMOTE test set: 0.8992847254268574\n"
          ]
        }
      ]
    },
    {
      "cell_type": "markdown",
      "source": [
        "# Accuracy Test"
      ],
      "metadata": {
        "id": "HlQhgm-2BQDG"
      }
    },
    {
      "cell_type": "markdown",
      "source": [
        "Shell berikut berisi program yang menampilkan confussion matrix menggunakan modul XGBClassifier dan elemen-elemen yang diperlukan."
      ],
      "metadata": {
        "id": "WYK1RKcLaAeP"
      }
    },
    {
      "cell_type": "code",
      "source": [
        "xgb_classifier = XGBClassifier(n_estimators=500, bootstrap=True)\n",
        "xgb_classifier.fit(X_train, y_train)\n",
        "y_pred = xgb_classifier.predict(X_test)\n",
        "\n",
        "accuracy = accuracy_score(y_test, y_pred)\n",
        "print(\"Accuracy on original test set:\", accuracy)\n",
        "\n",
        "matrix = confusion_matrix(y_test, y_pred)\n",
        "plt.figure(figsize=(6, 6))\n",
        "sns.heatmap(matrix, annot=True, cbar=False, cmap='twilight', linewidth=0.5, fmt=\"d\")\n",
        "plt.ylabel('True Label')\n",
        "plt.xlabel('Predicted Label')\n",
        "plt.title('Confusion Matrix for XGBClassifier on original test set')\n",
        "\n",
        "print('\\nClassification report for original test set:\\n', classification_report(y_test, y_pred))"
      ],
      "metadata": {
        "colab": {
          "base_uri": "https://localhost:8080/",
          "height": 894
        },
        "id": "prIkpnkCBUP_",
        "outputId": "14c76a5a-bc6f-40ad-8c03-f51118607fbd"
      },
      "execution_count": null,
      "outputs": [
        {
          "output_type": "stream",
          "name": "stderr",
          "text": [
            "/usr/local/lib/python3.10/dist-packages/xgboost/core.py:160: UserWarning:\n",
            "\n",
            "[07:51:01] WARNING: /workspace/src/learner.cc:742: \n",
            "Parameters: { \"bootstrap\" } are not used.\n",
            "\n",
            "\n"
          ]
        },
        {
          "output_type": "stream",
          "name": "stdout",
          "text": [
            "Accuracy on original test set: 0.9860796374231143\n",
            "\n",
            "Classification report for original test set:\n",
            "               precision    recall  f1-score   support\n",
            "\n",
            "         0.0       0.99      0.98      0.98       901\n",
            "         1.0       0.99      0.99      0.99      3810\n",
            "         2.0       0.98      0.99      0.98      1467\n",
            "\n",
            "    accuracy                           0.99      6178\n",
            "   macro avg       0.98      0.98      0.98      6178\n",
            "weighted avg       0.99      0.99      0.99      6178\n",
            "\n"
          ]
        },
        {
          "output_type": "display_data",
          "data": {
            "text/plain": [
              "<Figure size 600x600 with 1 Axes>"
            ],
            "image/png": "[encoded data removed]"
          },
          "metadata": {}
        }
      ]
    },
    {
      "cell_type": "markdown",
      "source": [
        "# **TEST**"
      ],
      "metadata": {
        "id": "rCbgzYbUlUDQ"
      }
    },
    {
      "cell_type": "markdown",
      "source": [
        "Proses ini serupa seperti proses sebelumnya, hanya saja tidak memiliki credit_score untuk diproses. Oleh karena itu, proses ini membuat sendiri kolom tersebut dan menghitung jumlah nilai pada kolom credit_score berdasarkan kategorinya."
      ],
      "metadata": {
        "id": "Ah4WFqOcbBti"
      }
    },
    {
      "cell_type": "code",
      "source": [
        "url1 = \"/content/drive/MyDrive/Machine Learning/UTS/Dataset/test.csv\"\n",
        "datatest = pd.read_csv(url1)"
      ],
      "metadata": {
        "id": "1QcQtagMlrTi"
      },
      "execution_count": null,
      "outputs": []
    },
    {
      "cell_type": "code",
      "source": [
        "datatest['Age'] = datatest['Age'].fillna('0').str.extract('(\\d+)').astype(float).astype(int)\n",
        "datatest['Num_of_Loan'] = datatest['Num_of_Loan'].fillna('0').str.extract('(\\d+)').astype(float).astype(int)\n",
        "datatest['Num_of_Delayed_Payment'] = datatest['Num_of_Delayed_Payment'].fillna('0').str.extract('(\\d+)').astype(float).astype(int)"
      ],
      "metadata": {
        "id": "QVucdN-vn6li"
      },
      "execution_count": null,
      "outputs": []
    },
    {
      "cell_type": "code",
      "source": [
        "datatest['Annual_Income'] = datatest['Annual_Income'].str.replace(r'[^0-9.]', '', regex=True)\n",
        "datatest['Annual_Income'] = datatest['Annual_Income'].astype(float)"
      ],
      "metadata": {
        "id": "9tmpZkQ0oG15"
      },
      "execution_count": null,
      "outputs": []
    },
    {
      "cell_type": "code",
      "source": [
        "datatest['Changed_Credit_Limit'] = datatest['Changed_Credit_Limit'].replace('_', np.nan)\n",
        "datatest['Changed_Credit_Limit'] = pd.to_numeric(datatest['Changed_Credit_Limit'], errors='coerce')\n",
        "datatest['Changed_Credit_Limit'] = datatest['Changed_Credit_Limit'].fillna(0)"
      ],
      "metadata": {
        "id": "Cs6WkdtCoMWn"
      },
      "execution_count": null,
      "outputs": []
    },
    {
      "cell_type": "code",
      "source": [
        "datatest['Outstanding_Debt'] = datatest['Outstanding_Debt'].astype(str)\n",
        "datatest['Outstanding_Debt'] = datatest['Outstanding_Debt'].str.replace(r'[^0-9.]', '', regex=True)\n",
        "datatest['Outstanding_Debt'] = pd.to_numeric(datatest['Outstanding_Debt'], errors='coerce')\n",
        "datatest['Outstanding_Debt'] = datatest['Outstanding_Debt'].fillna(0)"
      ],
      "metadata": {
        "id": "5CPqjr0goQJj"
      },
      "execution_count": null,
      "outputs": []
    },
    {
      "cell_type": "code",
      "source": [
        "datatest['Amount_invested_monthly'] = datatest['Amount_invested_monthly'].astype(str)\n",
        "datatest['Amount_invested_monthly'] = datatest['Amount_invested_monthly'].replace('', '0')\n",
        "datatest['Amount_invested_monthly'] = datatest['Amount_invested_monthly'].str.replace(r'[^0-9.]', '')\n",
        "datatest['Amount_invested_monthly'] = pd.to_numeric(datatest['Amount_invested_monthly'], errors='coerce')\n",
        "datatest['Amount_invested_monthly'] = datatest['Amount_invested_monthly'].fillna(0)\n"
      ],
      "metadata": {
        "id": "tG2Cp2p-pwXj"
      },
      "execution_count": null,
      "outputs": []
    },
    {
      "cell_type": "code",
      "source": [
        "datatest['Monthly_Balance'] = datatest['Monthly_Balance'].astype(str)\n",
        "datatest['Monthly_Balance'] = datatest['Monthly_Balance'].str.replace(r'[^0-9.-]+', '')\n",
        "datatest['Monthly_Balance'] = pd.to_numeric(datatest['Monthly_Balance'], errors='coerce')\n",
        "datatest['Monthly_Balance'] = datatest['Monthly_Balance'].fillna(0)"
      ],
      "metadata": {
        "id": "pCG4zA9wp5vi"
      },
      "execution_count": null,
      "outputs": []
    },
    {
      "cell_type": "code",
      "source": [
        "def parse_years_and_months(age):\n",
        "    if isinstance(age, str):\n",
        "        age_parts = age.split(' Years and ')\n",
        "        years = int(age_parts[0]) if 'Years' in age else 0\n",
        "        months_str = age_parts[1].split(' Months')[0] if 'Months' in age_parts[1] else '0'\n",
        "        months = int(months_str)\n",
        "        total_months = years * 12 + months\n",
        "        return total_months\n",
        "    else:\n",
        "        return 0\n",
        "\n",
        "datatest['Credit_History_Age_Months'] = datatest['Credit_History_Age'].apply(parse_years_and_months)"
      ],
      "metadata": {
        "id": "Em9qcLCxp72l"
      },
      "execution_count": null,
      "outputs": []
    },
    {
      "cell_type": "markdown",
      "source": [
        "# Data Entry"
      ],
      "metadata": {
        "id": "Srz8wN5QqSeV"
      }
    },
    {
      "cell_type": "code",
      "source": [
        "datatest = datatest[datatest['Payment_Behaviour'] != '!@9#%8']\n",
        "datatest = datatest[datatest['Occupation'] != '_______']\n",
        "datatest = datatest[datatest['Credit_Mix'] != '_']"
      ],
      "metadata": {
        "id": "6NxvfxcvqQYU"
      },
      "execution_count": null,
      "outputs": []
    },
    {
      "cell_type": "markdown",
      "source": [
        "# Encoding"
      ],
      "metadata": {
        "id": "dQdoaP_LqkoI"
      }
    },
    {
      "cell_type": "code",
      "source": [
        "label_encoder = LabelEncoder()\n",
        "datatest['Occupation_Encoded'] = label_encoder.fit_transform(datatest['Occupation'])\n",
        "\n",
        "categories = ['Bad', 'Standard', 'Good']\n",
        "encoder = OrdinalEncoder(categories=[categories])\n",
        "\n",
        "datatest['Credit_Mix_Encoded'] = encoder.fit_transform(datatest[['Credit_Mix']])\n",
        "\n",
        "categories_payment_behaviour = [\n",
        "    'Low_spent_Small_value_payments',\n",
        "    'Low_spent_Medium_value_payments',\n",
        "    'Low_spent_Large_value_payments',\n",
        "    'High_spent_Small_value_payments',\n",
        "    'High_spent_Medium_value_payments',\n",
        "    'High_spent_Large_value_payments'\n",
        "]\n",
        "\n",
        "encoder_payment_behaviour = OrdinalEncoder(categories=[categories_payment_behaviour])\n",
        "\n",
        "datatest['Payment_Behaviour_Encoded'] = encoder_payment_behaviour.fit_transform(datatest[['Payment_Behaviour']])"
      ],
      "metadata": {
        "id": "QDL80O0cqmdr"
      },
      "execution_count": null,
      "outputs": []
    },
    {
      "cell_type": "markdown",
      "source": [
        "# New Feature"
      ],
      "metadata": {
        "id": "sqGWvYLGqrp_"
      }
    },
    {
      "cell_type": "code",
      "source": [
        "datatest['Total_Num_Accounts'] = datatest['Num_Bank_Accounts'] + datatest['Num_Credit_Card']\n",
        "\n",
        "datatest['Debt_Per_Account'] = datatest['Outstanding_Debt'] / datatest['Total_Num_Accounts']\n",
        "\n",
        "datatest['Debt_to_Income_Ratio'] = datatest['Outstanding_Debt'] / datatest['Annual_Income']\n",
        "\n",
        "datatest['Delayed_Payments_Per_Account'] = datatest['Num_of_Delayed_Payment'] / datatest['Total_Num_Accounts']\n",
        "\n",
        "datatest['Total_Monthly_Expenses'] = datatest['Total_EMI_per_month'] + datatest['Amount_invested_monthly']"
      ],
      "metadata": {
        "id": "H8CjjwXVq0WY"
      },
      "execution_count": null,
      "outputs": []
    },
    {
      "cell_type": "code",
      "source": [
        "columns_to_drop = [\n",
        "    'ID', 'Customer_ID', 'Month', 'Name', 'Age', 'SSN', 'Occupation',\n",
        "    'Monthly_Inhand_Salary', 'Type_of_Loan', 'Credit_Mix', 'Credit_Utilization_Ratio',\n",
        "    'Payment_of_Min_Amount', 'Amount_invested_monthly', 'Payment_Behaviour',\n",
        "    'Monthly_Balance', 'Occupation_Encoded', 'Payment_Behaviour_Encoded',\n",
        "    'Total_Monthly_Expenses', 'Credit_History_Age'\n",
        "]\n",
        "\n",
        "datatest_cleaned = datatest.drop(columns=columns_to_drop)"
      ],
      "metadata": {
        "id": "sjlTMTOJrGzm"
      },
      "execution_count": null,
      "outputs": []
    },
    {
      "cell_type": "markdown",
      "source": [
        "# Predict"
      ],
      "metadata": {
        "id": "qzndAwsJrpdL"
      }
    },
    {
      "cell_type": "code",
      "source": [
        "y_pred = xgb_classifier.predict(datatest_cleaned)"
      ],
      "metadata": {
        "id": "M8luY1yorrAi"
      },
      "execution_count": null,
      "outputs": []
    },
    {
      "cell_type": "markdown",
      "source": [
        "# Result"
      ],
      "metadata": {
        "id": "EJW3Ya5ar1ra"
      }
    },
    {
      "cell_type": "code",
      "source": [
        "value_counts = pd.Series(y_pred).value_counts()\n",
        "result = pd.DataFrame({'Credit Score': value_counts.index, 'Jumlah': value_counts.values})\n",
        "result"
      ],
      "metadata": {
        "colab": {
          "base_uri": "https://localhost:8080/",
          "height": 143
        },
        "id": "m7sxneN2r4jA",
        "outputId": "d11c9513-2ad9-451a-d498-41850dd82a60"
      },
      "execution_count": null,
      "outputs": [
        {
          "output_type": "execute_result",
          "data": {
            "text/plain": [
              "   Credit Score  Jumlah\n",
              "0             1   16821\n",
              "1             0   12577\n",
              "2             2    5123"
            ],
            "text/html": [
              "\n",
              "  <div id=\"df-9246e906-46aa-4015-8ca8-a710455d584f\" class=\"colab-df-container\">\n",
              "    <div>\n",
              "<style scoped>\n",
              "    .dataframe tbody tr th:only-of-type {\n",
              "        vertical-align: middle;\n",
              "    }\n",
              "\n",
              "    .dataframe tbody tr th {\n",
              "        vertical-align: top;\n",
              "    }\n",
              "\n",
              "    .dataframe thead th {\n",
              "        text-align: right;\n",
              "    }\n",
              "</style>\n",
              "<table border=\"1\" class=\"dataframe\">\n",
              "  <thead>\n",
              "    <tr style=\"text-align: right;\">\n",
              "      <th></th>\n",
              "      <th>Credit Score</th>\n",
              "      <th>Jumlah</th>\n",
              "    </tr>\n",
              "  </thead>\n",
              "  <tbody>\n",
              "    <tr>\n",
              "      <th>0</th>\n",
              "      <td>1</td>\n",
              "      <td>16821</td>\n",
              "    </tr>\n",
              "    <tr>\n",
              "      <th>1</th>\n",
              "      <td>0</td>\n",
              "      <td>12577</td>\n",
              "    </tr>\n",
              "    <tr>\n",
              "      <th>2</th>\n",
              "      <td>2</td>\n",
              "      <td>5123</td>\n",
              "    </tr>\n",
              "  </tbody>\n",
              "</table>\n",
              "</div>\n",
              "    <div class=\"colab-df-buttons\">\n",
              "\n",
              "  <div class=\"colab-df-container\">\n",
              "    <button class=\"colab-df-convert\" onclick=\"convertToInteractive('df-9246e906-46aa-4015-8ca8-a710455d584f')\"\n",
              "            title=\"Convert this dataframe to an interactive table.\"\n",
              "            style=\"display:none;\">\n",
              "\n",
              "  <svg xmlns=\"http://www.w3.org/2000/svg\" height=\"24px\" viewBox=\"0 -960 960 960\">\n",
              "    <path d=\"M120-120v-720h720v720H120Zm60-500h600v-160H180v160Zm220 220h160v-160H400v160Zm0 220h160v-160H400v160ZM180-400h160v-160H180v160Zm440 0h160v-160H620v160ZM180-180h160v-160H180v160Zm440 0h160v-160H620v160Z\"/>\n",
              "  </svg>\n",
              "    </button>\n",
              "\n",
              "  <style>\n",
              "    .colab-df-container {\n",
              "      display:flex;\n",
              "      gap: 12px;\n",
              "    }\n",
              "\n",
              "    .colab-df-convert {\n",
              "      background-color: #E8F0FE;\n",
              "      border: none;\n",
              "      border-radius: 50%;\n",
              "      cursor: pointer;\n",
              "      display: none;\n",
              "      fill: #1967D2;\n",
              "      height: 32px;\n",
              "      padding: 0 0 0 0;\n",
              "      width: 32px;\n",
              "    }\n",
              "\n",
              "    .colab-df-convert:hover {\n",
              "      background-color: #E2EBFA;\n",
              "      box-shadow: 0px 1px 2px rgba(60, 64, 67, 0.3), 0px 1px 3px 1px rgba(60, 64, 67, 0.15);\n",
              "      fill: #174EA6;\n",
              "    }\n",
              "\n",
              "    .colab-df-buttons div {\n",
              "      margin-bottom: 4px;\n",
              "    }\n",
              "\n",
              "    [theme=dark] .colab-df-convert {\n",
              "      background-color: #3B4455;\n",
              "      fill: #D2E3FC;\n",
              "    }\n",
              "\n",
              "    [theme=dark] .colab-df-convert:hover {\n",
              "      background-color: #434B5C;\n",
              "      box-shadow: 0px 1px 3px 1px rgba(0, 0, 0, 0.15);\n",
              "      filter: drop-shadow(0px 1px 2px rgba(0, 0, 0, 0.3));\n",
              "      fill: #FFFFFF;\n",
              "    }\n",
              "  </style>\n",
              "\n",
              "    <script>\n",
              "      const buttonEl =\n",
              "        document.querySelector('#df-9246e906-46aa-4015-8ca8-a710455d584f button.colab-df-convert');\n",
              "      buttonEl.style.display =\n",
              "        google.colab.kernel.accessAllowed ? 'block' : 'none';\n",
              "\n",
              "      async function convertToInteractive(key) {\n",
              "        const element = document.querySelector('#df-9246e906-46aa-4015-8ca8-a710455d584f');\n",
              "        const dataTable =\n",
              "          await google.colab.kernel.invokeFunction('convertToInteractive',\n",
              "                                                    [key], {});\n",
              "        if (!dataTable) return;\n",
              "\n",
              "        const docLinkHtml = 'Like what you see? Visit the ' +\n",
              "          '<a target=\"_blank\" href=https://colab.research.google.com/notebooks/data_table.ipynb>data table notebook</a>'\n",
              "          + ' to learn more about interactive tables.';\n",
              "        element.innerHTML = '';\n",
              "        dataTable['output_type'] = 'display_data';\n",
              "        await google.colab.output.renderOutput(dataTable, element);\n",
              "        const docLink = document.createElement('div');\n",
              "        docLink.innerHTML = docLinkHtml;\n",
              "        element.appendChild(docLink);\n",
              "      }\n",
              "    </script>\n",
              "  </div>\n",
              "\n",
              "\n",
              "<div id=\"df-97b32d0b-e82f-4e8c-86f6-5943c2df224f\">\n",
              "  <button class=\"colab-df-quickchart\" onclick=\"quickchart('df-97b32d0b-e82f-4e8c-86f6-5943c2df224f')\"\n",
              "            title=\"Suggest charts\"\n",
              "            style=\"display:none;\">\n",
              "\n",
              "<svg xmlns=\"http://www.w3.org/2000/svg\" height=\"24px\"viewBox=\"0 0 24 24\"\n",
              "     width=\"24px\">\n",
              "    <g>\n",
              "        <path d=\"M19 3H5c-1.1 0-2 .9-2 2v14c0 1.1.9 2 2 2h14c1.1 0 2-.9 2-2V5c0-1.1-.9-2-2-2zM9 17H7v-7h2v7zm4 0h-2V7h2v10zm4 0h-2v-4h2v4z\"/>\n",
              "    </g>\n",
              "</svg>\n",
              "  </button>\n",
              "\n",
              "<style>\n",
              "  .colab-df-quickchart {\n",
              "      --bg-color: #E8F0FE;\n",
              "      --fill-color: #1967D2;\n",
              "      --hover-bg-color: #E2EBFA;\n",
              "      --hover-fill-color: #174EA6;\n",
              "      --disabled-fill-color: #AAA;\n",
              "      --disabled-bg-color: #DDD;\n",
              "  }\n",
              "\n",
              "  [theme=dark] .colab-df-quickchart {\n",
              "      --bg-color: #3B4455;\n",
              "      --fill-color: #D2E3FC;\n",
              "      --hover-bg-color: #434B5C;\n",
              "      --hover-fill-color: #FFFFFF;\n",
              "      --disabled-bg-color: #3B4455;\n",
              "      --disabled-fill-color: #666;\n",
              "  }\n",
              "\n",
              "  .colab-df-quickchart {\n",
              "    background-color: var(--bg-color);\n",
              "    border: none;\n",
              "    border-radius: 50%;\n",
              "    cursor: pointer;\n",
              "    display: none;\n",
              "    fill: var(--fill-color);\n",
              "    height: 32px;\n",
              "    padding: 0;\n",
              "    width: 32px;\n",
              "  }\n",
              "\n",
              "  .colab-df-quickchart:hover {\n",
              "    background-color: var(--hover-bg-color);\n",
              "    box-shadow: 0 1px 2px rgba(60, 64, 67, 0.3), 0 1px 3px 1px rgba(60, 64, 67, 0.15);\n",
              "    fill: var(--button-hover-fill-color);\n",
              "  }\n",
              "\n",
              "  .colab-df-quickchart-complete:disabled,\n",
              "  .colab-df-quickchart-complete:disabled:hover {\n",
              "    background-color: var(--disabled-bg-color);\n",
              "    fill: var(--disabled-fill-color);\n",
              "    box-shadow: none;\n",
              "  }\n",
              "\n",
              "  .colab-df-spinner {\n",
              "    border: 2px solid var(--fill-color);\n",
              "    border-color: transparent;\n",
              "    border-bottom-color: var(--fill-color);\n",
              "    animation:\n",
              "      spin 1s steps(1) infinite;\n",
              "  }\n",
              "\n",
              "  @keyframes spin {\n",
              "    0% {\n",
              "      border-color: transparent;\n",
              "      border-bottom-color: var(--fill-color);\n",
              "      border-left-color: var(--fill-color);\n",
              "    }\n",
              "    20% {\n",
              "      border-color: transparent;\n",
              "      border-left-color: var(--fill-color);\n",
              "      border-top-color: var(--fill-color);\n",
              "    }\n",
              "    30% {\n",
              "      border-color: transparent;\n",
              "      border-left-color: var(--fill-color);\n",
              "      border-top-color: var(--fill-color);\n",
              "      border-right-color: var(--fill-color);\n",
              "    }\n",
              "    40% {\n",
              "      border-color: transparent;\n",
              "      border-right-color: var(--fill-color);\n",
              "      border-top-color: var(--fill-color);\n",
              "    }\n",
              "    60% {\n",
              "      border-color: transparent;\n",
              "      border-right-color: var(--fill-color);\n",
              "    }\n",
              "    80% {\n",
              "      border-color: transparent;\n",
              "      border-right-color: var(--fill-color);\n",
              "      border-bottom-color: var(--fill-color);\n",
              "    }\n",
              "    90% {\n",
              "      border-color: transparent;\n",
              "      border-bottom-color: var(--fill-color);\n",
              "    }\n",
              "  }\n",
              "</style>\n",
              "\n",
              "  <script>\n",
              "    async function quickchart(key) {\n",
              "      const quickchartButtonEl =\n",
              "        document.querySelector('#' + key + ' button');\n",
              "      quickchartButtonEl.disabled = true;  // To prevent multiple clicks.\n",
              "      quickchartButtonEl.classList.add('colab-df-spinner');\n",
              "      try {\n",
              "        const charts = await google.colab.kernel.invokeFunction(\n",
              "            'suggestCharts', [key], {});\n",
              "      } catch (error) {\n",
              "        console.error('Error during call to suggestCharts:', error);\n",
              "      }\n",
              "      quickchartButtonEl.classList.remove('colab-df-spinner');\n",
              "      quickchartButtonEl.classList.add('colab-df-quickchart-complete');\n",
              "    }\n",
              "    (() => {\n",
              "      let quickchartButtonEl =\n",
              "        document.querySelector('#df-97b32d0b-e82f-4e8c-86f6-5943c2df224f button');\n",
              "      quickchartButtonEl.style.display =\n",
              "        google.colab.kernel.accessAllowed ? 'block' : 'none';\n",
              "    })();\n",
              "  </script>\n",
              "</div>\n",
              "    </div>\n",
              "  </div>\n"
            ],
            "application/vnd.google.colaboratory.intrinsic+json": {
              "type": "dataframe",
              "variable_name": "result",
              "summary": "{\n  \"name\": \"result\",\n  \"rows\": 3,\n  \"fields\": [\n    {\n      \"column\": \"Credit Score\",\n      \"properties\": {\n        \"dtype\": \"number\",\n        \"std\": 1,\n        \"min\": 0,\n        \"max\": 2,\n        \"num_unique_values\": 3,\n        \"samples\": [\n          1,\n          0,\n          2\n        ],\n        \"semantic_type\": \"\",\n        \"description\": \"\"\n      }\n    },\n    {\n      \"column\": \"Jumlah\",\n      \"properties\": {\n        \"dtype\": \"number\",\n        \"std\": 5921,\n        \"min\": 5123,\n        \"max\": 16821,\n        \"num_unique_values\": 3,\n        \"samples\": [\n          16821,\n          12577,\n          5123\n        ],\n        \"semantic_type\": \"\",\n        \"description\": \"\"\n      }\n    }\n  ]\n}"
            }
          },
          "metadata": {},
          "execution_count": 48
        }
      ]
    },
    {
      "cell_type": "markdown",
      "source": [],
      "metadata": {
        "id": "e5xwyYTdqXAn"
      }
    }
  ]
}